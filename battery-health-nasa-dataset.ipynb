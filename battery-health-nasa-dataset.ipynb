{
 "cells": [
  {
   "cell_type": "markdown",
   "id": "15e8be44",
   "metadata": {
    "papermill": {
     "duration": 0.027906,
     "end_time": "2021-07-22T04:44:58.573975",
     "exception": false,
     "start_time": "2021-07-22T04:44:58.546069",
     "status": "completed"
    },
    "tags": []
   },
   "source": [
    "# Introduction\n",
    "Manual for the preparation and use of the Deep Learning model for battery SoH prediction\n",
    "This Python Notebook shows and analyzes how the battery charge / discharge dataset obtained from NASA should be treated. It also shows how the model proposed by [1] and [2] is prepared and its encoding necessary to be used.\n",
    "\n",
    "Requirements\n",
    "For the training phase of this model it is necessary to have Python 3.x installed along with the following libraries:\n",
    "\n",
    "Tensorflow 2.0\n",
    "Numpy\n",
    "Pandas\n",
    "Scipy\n",
    "Sci-kit learn\n",
    "Matplot\n",
    "Seaborn\n",
    "For the prediction phase of this model it is necessary to have the same libraries with the exception of Matplot and Seaborn\n",
    "\n",
    "Dataset preparation\n",
    "Since this manual was created from Google Colab (this may not be necessary to do it in an offline environment), it is necessary to download the dataset and then unzip it in a specific directory."
   ]
  },
  {
   "cell_type": "code",
   "execution_count": 1,
   "id": "28f2e3df",
   "metadata": {
    "execution": {
     "iopub.execute_input": "2021-07-22T04:44:58.633904Z",
     "iopub.status.busy": "2021-07-22T04:44:58.632628Z",
     "iopub.status.idle": "2021-07-22T04:44:58.652037Z",
     "shell.execute_reply": "2021-07-22T04:44:58.652614Z",
     "shell.execute_reply.started": "2021-07-21T14:55:52.119771Z"
    },
    "papermill": {
     "duration": 0.051931,
     "end_time": "2021-07-22T04:44:58.652915",
     "exception": false,
     "start_time": "2021-07-22T04:44:58.600984",
     "status": "completed"
    },
    "tags": []
   },
   "outputs": [],
   "source": [
    "%config Completer.use_jedi = False"
   ]
  },
  {
   "cell_type": "code",
   "execution_count": 2,
   "id": "0cb62f4e",
   "metadata": {
    "execution": {
     "iopub.execute_input": "2021-07-22T04:44:58.709412Z",
     "iopub.status.busy": "2021-07-22T04:44:58.708761Z",
     "iopub.status.idle": "2021-07-22T04:46:17.516608Z",
     "shell.execute_reply": "2021-07-22T04:46:17.515963Z",
     "shell.execute_reply.started": "2021-07-21T14:55:52.144381Z"
    },
    "papermill": {
     "duration": 78.83729,
     "end_time": "2021-07-22T04:46:17.516783",
     "exception": false,
     "start_time": "2021-07-22T04:44:58.679493",
     "status": "completed"
    },
    "tags": []
   },
   "outputs": [
    {
     "name": "stdout",
     "output_type": "stream",
     "text": [
      "\u001b[33mWARNING: Package(s) not found: tensorflow\u001b[0m\u001b[33m\n",
      "\u001b[0m"
     ]
    }
   ],
   "source": [
    "%matplotlib inline\n",
    "!pip show tensorflow"
   ]
  },
  {
   "cell_type": "markdown",
   "id": "c5df5d06",
   "metadata": {
    "papermill": {
     "duration": 0.026298,
     "end_time": "2021-07-22T04:46:17.570769",
     "exception": false,
     "start_time": "2021-07-22T04:46:17.544471",
     "status": "completed"
    },
    "tags": []
   },
   "source": [
    "# Library import\n",
    "In this part, all the necessary libraries for the treatment of the dataset are important."
   ]
  },
  {
   "cell_type": "code",
   "execution_count": 3,
   "id": "17122aa5",
   "metadata": {
    "execution": {
     "iopub.execute_input": "2021-07-22T04:46:17.630168Z",
     "iopub.status.busy": "2021-07-22T04:46:17.629472Z",
     "iopub.status.idle": "2021-07-22T04:46:18.992408Z",
     "shell.execute_reply": "2021-07-22T04:46:18.991834Z",
     "shell.execute_reply.started": "2021-07-21T14:56:03.29303Z"
    },
    "papermill": {
     "duration": 1.395162,
     "end_time": "2021-07-22T04:46:18.992590",
     "exception": false,
     "start_time": "2021-07-22T04:46:17.597428",
     "status": "completed"
    },
    "tags": []
   },
   "outputs": [],
   "source": [
    "import datetime\n",
    "import numpy as np\n",
    "import pandas as pd\n",
    "from scipy.io import loadmat\n",
    "from sklearn.preprocessing import MinMaxScaler\n",
    "from sklearn.metrics import mean_squared_error\n",
    "from sklearn import metrics\n",
    "import matplotlib.pyplot as plt\n",
    "import seaborn as sns"
   ]
  },
  {
   "cell_type": "markdown",
   "id": "06f7e9b7",
   "metadata": {
    "papermill": {
     "duration": 0.026538,
     "end_time": "2021-07-22T04:46:19.048668",
     "exception": false,
     "start_time": "2021-07-22T04:46:19.022130",
     "status": "completed"
    },
    "tags": []
   },
   "source": [
    "# Loading the dataset into memory\n",
    "According to the README of the dataset, the data is stored in several \".mat\" files, each file corresponds to a specific battery and the data structure of each file is as follows:"
   ]
  },
  {
   "cell_type": "markdown",
   "id": "930b556c",
   "metadata": {
    "papermill": {
     "duration": 0.026498,
     "end_time": "2021-07-22T04:46:19.102121",
     "exception": false,
     "start_time": "2021-07-22T04:46:19.075623",
     "status": "completed"
    },
    "tags": []
   },
   "source": [
    "```\n",
    "Data Structure:\n",
    "cycle:\ttop level structure array containing the charge, discharge and impedance operations\n",
    "\ttype: \toperation  type, can be charge, discharge or impedance\n",
    "\tambient_temperature:\tambient temperature (degree C)\n",
    "\ttime: \tthe date and time of the start of the cycle, in MATLAB  date vector format\n",
    "\tdata:\tdata structure containing the measurements\n",
    "\t   for charge the fields are:\n",
    "\t\tVoltage_measured: \tBattery terminal voltage (Volts)\n",
    "\t\tCurrent_measured:\tBattery output current (Amps)\n",
    "\t\tTemperature_measured: \tBattery temperature (degree C)\n",
    "\t\tCurrent_charge:\t\tCurrent measured at charger (Amps)\n",
    "\t\tVoltage_charge:\t\tVoltage measured at charger (Volts)\n",
    "\t\tTime:\t\t\tTime vector for the cycle (secs)\n",
    "\t   for discharge the fields are:\n",
    "\t\tVoltage_measured: \tBattery terminal voltage (Volts)\n",
    "\t\tCurrent_measured:\tBattery output current (Amps)\n",
    "\t\tTemperature_measured: \tBattery temperature (degree C)\n",
    "\t\tCurrent_charge:\t\tCurrent measured at load (Amps)\n",
    "\t\tVoltage_charge:\t\tVoltage measured at load (Volts)\n",
    "\t\tTime:\t\t\tTime vector for the cycle (secs)\n",
    "\t\tCapacity:\t\tBattery capacity (Ahr) for discharge till 2.7V \n",
    "\t   for impedance the fields are:\n",
    "\t\tSense_current:\t\tCurrent in sense branch (Amps)\n",
    "\t\tBattery_current:\tCurrent in battery branch (Amps)\n",
    "\t\tCurrent_ratio:\t\tRatio of the above currents \n",
    "\t\tBattery_impedance:\tBattery impedance (Ohms) computed from raw data\n",
    "\t\tRectified_impedance:\tCalibrated and smoothed battery impedance (Ohms) \n",
    "\t\tRe:\t\t\tEstimated electrolyte resistance (Ohms)\n",
    "\t\tRct:\t\t\tEstimated charge transfer resistance (Ohms)\n",
    "\n",
    "```"
   ]
  },
  {
   "cell_type": "markdown",
   "id": "ab11a511",
   "metadata": {
    "papermill": {
     "duration": 0.026598,
     "end_time": "2021-07-22T04:46:19.156351",
     "exception": false,
     "start_time": "2021-07-22T04:46:19.129753",
     "status": "completed"
    },
    "tags": []
   },
   "source": [
    "For the Deep Learning model proposed in [1] it is only necessary to collect the data related to the discharge of the battery, for this a function is created in Python that is in charge of reading this data from the \".mat\" file and storing it in memory in two pandas DataFrame for later access. After loading the dataset, a description of the data is made using panda functions to verify if the data loading was correct."
   ]
  },
  {
   "cell_type": "code",
   "execution_count": 5,
   "id": "60a21a36",
   "metadata": {
    "execution": {
     "iopub.execute_input": "2021-07-22T04:46:19.230224Z",
     "iopub.status.busy": "2021-07-22T04:46:19.226477Z",
     "iopub.status.idle": "2021-07-22T04:46:20.537839Z",
     "shell.execute_reply": "2021-07-22T04:46:20.537155Z",
     "shell.execute_reply.started": "2021-07-21T14:56:04.585329Z"
    },
    "papermill": {
     "duration": 1.35471,
     "end_time": "2021-07-22T04:46:20.537986",
     "exception": false,
     "start_time": "2021-07-22T04:46:19.183276",
     "status": "completed"
    },
    "tags": []
   },
   "outputs": [
    {
     "name": "stdout",
     "output_type": "stream",
     "text": [
      "Total data in dataset:  616\n",
      "[1, 24, datetime.datetime(2008, 4, 2, 15, 25, 41), 1.8564874208181574, 4.191491807505295, -0.004901589207462691, 24.330033885570543, -0.0006, 0.0, 0.0]\n",
      "   cycle  ambient_temperature            datetime  capacity  voltage_measured  \\\n",
      "0      1                   24 2008-04-02 15:25:41  1.856487          4.191492   \n",
      "1      1                   24 2008-04-02 15:25:41  1.856487          4.190749   \n",
      "2      1                   24 2008-04-02 15:25:41  1.856487          3.974871   \n",
      "3      1                   24 2008-04-02 15:25:41  1.856487          3.951717   \n",
      "4      1                   24 2008-04-02 15:25:41  1.856487          3.934352   \n",
      "\n",
      "   current_measured  temperature_measured  current_load  voltage_load    time  \n",
      "0         -0.004902             24.330034       -0.0006         0.000   0.000  \n",
      "1         -0.001478             24.325993       -0.0006         4.206  16.781  \n",
      "2         -2.012528             24.389085       -1.9982         3.062  35.703  \n",
      "3         -2.013979             24.544752       -1.9982         3.030  53.781  \n",
      "4         -2.011144             24.731385       -1.9982         3.011  71.922  \n"
     ]
    },
    {
     "data": {
      "text/html": [
       "<div>\n",
       "<style scoped>\n",
       "    .dataframe tbody tr th:only-of-type {\n",
       "        vertical-align: middle;\n",
       "    }\n",
       "\n",
       "    .dataframe tbody tr th {\n",
       "        vertical-align: top;\n",
       "    }\n",
       "\n",
       "    .dataframe thead th {\n",
       "        text-align: right;\n",
       "    }\n",
       "</style>\n",
       "<table border=\"1\" class=\"dataframe\">\n",
       "  <thead>\n",
       "    <tr style=\"text-align: right;\">\n",
       "      <th></th>\n",
       "      <th>cycle</th>\n",
       "      <th>ambient_temperature</th>\n",
       "      <th>datetime</th>\n",
       "      <th>capacity</th>\n",
       "      <th>voltage_measured</th>\n",
       "      <th>current_measured</th>\n",
       "      <th>temperature_measured</th>\n",
       "      <th>current_load</th>\n",
       "      <th>voltage_load</th>\n",
       "      <th>time</th>\n",
       "    </tr>\n",
       "  </thead>\n",
       "  <tbody>\n",
       "    <tr>\n",
       "      <th>count</th>\n",
       "      <td>50285.000000</td>\n",
       "      <td>50285.0</td>\n",
       "      <td>50285</td>\n",
       "      <td>50285.000000</td>\n",
       "      <td>50285.000000</td>\n",
       "      <td>50285.000000</td>\n",
       "      <td>50285.000000</td>\n",
       "      <td>50285.000000</td>\n",
       "      <td>50285.000000</td>\n",
       "      <td>50285.000000</td>\n",
       "    </tr>\n",
       "    <tr>\n",
       "      <th>mean</th>\n",
       "      <td>88.125942</td>\n",
       "      <td>24.0</td>\n",
       "      <td>2008-05-07 01:58:43.570826240</td>\n",
       "      <td>1.560345</td>\n",
       "      <td>3.515268</td>\n",
       "      <td>-1.806032</td>\n",
       "      <td>32.816991</td>\n",
       "      <td>1.362700</td>\n",
       "      <td>2.308406</td>\n",
       "      <td>1546.208924</td>\n",
       "    </tr>\n",
       "    <tr>\n",
       "      <th>min</th>\n",
       "      <td>1.000000</td>\n",
       "      <td>24.0</td>\n",
       "      <td>2008-04-02 15:25:41</td>\n",
       "      <td>1.287453</td>\n",
       "      <td>2.455679</td>\n",
       "      <td>-2.029098</td>\n",
       "      <td>23.214802</td>\n",
       "      <td>-1.998400</td>\n",
       "      <td>0.000000</td>\n",
       "      <td>0.000000</td>\n",
       "    </tr>\n",
       "    <tr>\n",
       "      <th>25%</th>\n",
       "      <td>50.000000</td>\n",
       "      <td>24.0</td>\n",
       "      <td>2008-04-29 22:00:04</td>\n",
       "      <td>1.386229</td>\n",
       "      <td>3.399384</td>\n",
       "      <td>-2.013415</td>\n",
       "      <td>30.019392</td>\n",
       "      <td>1.998000</td>\n",
       "      <td>2.388000</td>\n",
       "      <td>768.563000</td>\n",
       "    </tr>\n",
       "    <tr>\n",
       "      <th>50%</th>\n",
       "      <td>88.000000</td>\n",
       "      <td>24.0</td>\n",
       "      <td>2008-05-07 21:56:09</td>\n",
       "      <td>1.538237</td>\n",
       "      <td>3.511664</td>\n",
       "      <td>-2.012312</td>\n",
       "      <td>32.828944</td>\n",
       "      <td>1.998200</td>\n",
       "      <td>2.533000</td>\n",
       "      <td>1537.031000</td>\n",
       "    </tr>\n",
       "    <tr>\n",
       "      <th>75%</th>\n",
       "      <td>127.000000</td>\n",
       "      <td>24.0</td>\n",
       "      <td>2008-05-18 03:05:19</td>\n",
       "      <td>1.746871</td>\n",
       "      <td>3.660903</td>\n",
       "      <td>-2.011052</td>\n",
       "      <td>35.920887</td>\n",
       "      <td>1.998200</td>\n",
       "      <td>2.690000</td>\n",
       "      <td>2305.984000</td>\n",
       "    </tr>\n",
       "    <tr>\n",
       "      <th>max</th>\n",
       "      <td>168.000000</td>\n",
       "      <td>24.0</td>\n",
       "      <td>2008-05-27 20:45:42</td>\n",
       "      <td>1.856487</td>\n",
       "      <td>4.222920</td>\n",
       "      <td>0.007496</td>\n",
       "      <td>41.450232</td>\n",
       "      <td>1.998400</td>\n",
       "      <td>4.238000</td>\n",
       "      <td>3690.234000</td>\n",
       "    </tr>\n",
       "    <tr>\n",
       "      <th>std</th>\n",
       "      <td>45.699687</td>\n",
       "      <td>0.0</td>\n",
       "      <td>NaN</td>\n",
       "      <td>0.182380</td>\n",
       "      <td>0.231778</td>\n",
       "      <td>0.610502</td>\n",
       "      <td>3.987515</td>\n",
       "      <td>1.313698</td>\n",
       "      <td>0.800300</td>\n",
       "      <td>906.640295</td>\n",
       "    </tr>\n",
       "  </tbody>\n",
       "</table>\n",
       "</div>"
      ],
      "text/plain": [
       "              cycle  ambient_temperature                       datetime  \\\n",
       "count  50285.000000              50285.0                          50285   \n",
       "mean      88.125942                 24.0  2008-05-07 01:58:43.570826240   \n",
       "min        1.000000                 24.0            2008-04-02 15:25:41   \n",
       "25%       50.000000                 24.0            2008-04-29 22:00:04   \n",
       "50%       88.000000                 24.0            2008-05-07 21:56:09   \n",
       "75%      127.000000                 24.0            2008-05-18 03:05:19   \n",
       "max      168.000000                 24.0            2008-05-27 20:45:42   \n",
       "std       45.699687                  0.0                            NaN   \n",
       "\n",
       "           capacity  voltage_measured  current_measured  temperature_measured  \\\n",
       "count  50285.000000      50285.000000      50285.000000          50285.000000   \n",
       "mean       1.560345          3.515268         -1.806032             32.816991   \n",
       "min        1.287453          2.455679         -2.029098             23.214802   \n",
       "25%        1.386229          3.399384         -2.013415             30.019392   \n",
       "50%        1.538237          3.511664         -2.012312             32.828944   \n",
       "75%        1.746871          3.660903         -2.011052             35.920887   \n",
       "max        1.856487          4.222920          0.007496             41.450232   \n",
       "std        0.182380          0.231778          0.610502              3.987515   \n",
       "\n",
       "       current_load  voltage_load          time  \n",
       "count  50285.000000  50285.000000  50285.000000  \n",
       "mean       1.362700      2.308406   1546.208924  \n",
       "min       -1.998400      0.000000      0.000000  \n",
       "25%        1.998000      2.388000    768.563000  \n",
       "50%        1.998200      2.533000   1537.031000  \n",
       "75%        1.998200      2.690000   2305.984000  \n",
       "max        1.998400      4.238000   3690.234000  \n",
       "std        1.313698      0.800300    906.640295  "
      ]
     },
     "execution_count": 5,
     "metadata": {},
     "output_type": "execute_result"
    }
   ],
   "source": [
    "def load_data(battery):\n",
    "  mat = loadmat('NASA/' + battery + '.mat')\n",
    "  print('Total data in dataset: ', len(mat[battery][0, 0]['cycle'][0]))\n",
    "  counter = 0\n",
    "  dataset = []\n",
    "  capacity_data = []\n",
    "  \n",
    "  for i in range(len(mat[battery][0, 0]['cycle'][0])):\n",
    "    row = mat[battery][0, 0]['cycle'][0, i]\n",
    "    if row['type'][0] == 'discharge':\n",
    "      ambient_temperature = row['ambient_temperature'][0][0]\n",
    "      date_time = datetime.datetime(int(row['time'][0][0]),\n",
    "                               int(row['time'][0][1]),\n",
    "                               int(row['time'][0][2]),\n",
    "                               int(row['time'][0][3]),\n",
    "                               int(row['time'][0][4])) + datetime.timedelta(seconds=int(row['time'][0][5]))\n",
    "      data = row['data']\n",
    "      capacity = data[0][0]['Capacity'][0][0]\n",
    "      for j in range(len(data[0][0]['Voltage_measured'][0])):\n",
    "        voltage_measured = data[0][0]['Voltage_measured'][0][j]\n",
    "        current_measured = data[0][0]['Current_measured'][0][j]\n",
    "        temperature_measured = data[0][0]['Temperature_measured'][0][j]\n",
    "        current_load = data[0][0]['Current_load'][0][j]\n",
    "        voltage_load = data[0][0]['Voltage_load'][0][j]\n",
    "        time = data[0][0]['Time'][0][j]\n",
    "        dataset.append([counter + 1, ambient_temperature, date_time, capacity,\n",
    "                        voltage_measured, current_measured,\n",
    "                        temperature_measured, current_load,\n",
    "                        voltage_load, time])\n",
    "      capacity_data.append([counter + 1, ambient_temperature, date_time, capacity])\n",
    "      counter = counter + 1\n",
    "  print(dataset[0])\n",
    "  return [pd.DataFrame(data=dataset,\n",
    "                       columns=['cycle', 'ambient_temperature', 'datetime',\n",
    "                                'capacity', 'voltage_measured',\n",
    "                                'current_measured', 'temperature_measured',\n",
    "                                'current_load', 'voltage_load', 'time']),\n",
    "          pd.DataFrame(data=capacity_data,\n",
    "                       columns=['cycle', 'ambient_temperature', 'datetime',\n",
    "                                'capacity'])]\n",
    "dataset, capacity = load_data('B0005')\n",
    "pd.set_option('display.max_columns', 10)\n",
    "print(dataset.head())\n",
    "dataset.describe()"
   ]
  },
  {
   "cell_type": "markdown",
   "id": "0daf1c1a",
   "metadata": {
    "papermill": {
     "duration": 0.027799,
     "end_time": "2021-07-22T04:46:20.594082",
     "exception": false,
     "start_time": "2021-07-22T04:46:20.566283",
     "status": "completed"
    },
    "tags": []
   },
   "source": [
    "The following graph shows the aging process of the battery as the charge cycles progress. The horizontal line represents the threshold related to what can be considered the end of the battery's life cycle."
   ]
  },
  {
   "cell_type": "code",
   "execution_count": 6,
   "id": "40ebb0d9",
   "metadata": {
    "execution": {
     "iopub.execute_input": "2021-07-22T04:46:20.658266Z",
     "iopub.status.busy": "2021-07-22T04:46:20.657439Z",
     "iopub.status.idle": "2021-07-22T04:46:20.967711Z",
     "shell.execute_reply": "2021-07-22T04:46:20.967106Z",
     "shell.execute_reply.started": "2021-07-21T14:56:05.914857Z"
    },
    "papermill": {
     "duration": 0.345743,
     "end_time": "2021-07-22T04:46:20.967861",
     "exception": false,
     "start_time": "2021-07-22T04:46:20.622118",
     "status": "completed"
    },
    "tags": []
   },
   "outputs": [
    {
     "data": {
      "text/plain": [
       "Text(0.5, 1.0, 'Discharge B0005')"
      ]
     },
     "execution_count": 6,
     "metadata": {},
     "output_type": "execute_result"
    },
    {
     "data": {
      "image/png": "[encoded data removed]",
      "text/plain": [
       "<Figure size 1200x800 with 1 Axes>"
      ]
     },
     "metadata": {},
     "output_type": "display_data"
    }
   ],
   "source": [
    "plot_df = capacity.loc[(capacity['cycle']>=1),['cycle','capacity']]\n",
    "sns.set_style(\"darkgrid\")\n",
    "plt.figure(figsize=(12, 8))\n",
    "plt.plot(plot_df['cycle'], plot_df['capacity'])\n",
    "#Draw threshold\n",
    "plt.plot([0.,len(capacity)], [1.4, 1.4])\n",
    "plt.ylabel('Capacity')\n",
    "# make x-axis ticks legible\n",
    "adf = plt.gca().get_xaxis().get_major_formatter()\n",
    "plt.xlabel('cycle')\n",
    "plt.title('Discharge B0005')"
   ]
  },
  {
   "cell_type": "markdown",
   "id": "f2c91219",
   "metadata": {
    "papermill": {
     "duration": 0.029664,
     "end_time": "2021-07-22T04:46:21.027604",
     "exception": false,
     "start_time": "2021-07-22T04:46:20.997940",
     "status": "completed"
    },
    "tags": []
   },
   "source": [
    "It is also necessary to calculate the SoH of the battery, since this is the data that will be predicted using the * deep learning * model."
   ]
  },
  {
   "cell_type": "code",
   "execution_count": 7,
   "id": "ad513dfc",
   "metadata": {
    "execution": {
     "iopub.execute_input": "2021-07-22T04:46:21.135730Z",
     "iopub.status.busy": "2021-07-22T04:46:21.129892Z",
     "iopub.status.idle": "2021-07-22T04:46:21.159849Z",
     "shell.execute_reply": "2021-07-22T04:46:21.159126Z",
     "shell.execute_reply.started": "2021-07-21T14:56:06.21875Z"
    },
    "papermill": {
     "duration": 0.101645,
     "end_time": "2021-07-22T04:46:21.160002",
     "exception": false,
     "start_time": "2021-07-22T04:46:21.058357",
     "status": "completed"
    },
    "tags": []
   },
   "outputs": [
    {
     "name": "stdout",
     "output_type": "stream",
     "text": [
      "   cycle            datetime  capacity       SoH\n",
      "0      1 2008-04-02 15:25:41  1.856487  1.000000\n",
      "1      2 2008-04-02 19:43:48  1.846327  0.994527\n",
      "2      3 2008-04-03 00:01:06  1.835349  0.988614\n",
      "3      4 2008-04-03 04:16:37  1.835263  0.988567\n",
      "4      5 2008-04-03 08:33:25  1.834646  0.988235\n"
     ]
    }
   ],
   "source": [
    "attrib=['cycle', 'datetime', 'capacity']\n",
    "dis_ele = capacity[attrib]\n",
    "C = dis_ele['capacity'][0]\n",
    "for i in range(len(dis_ele)):\n",
    "    dis_ele['SoH']=(dis_ele['capacity'])/C\n",
    "print(dis_ele.head(5))"
   ]
  },
  {
   "cell_type": "markdown",
   "id": "e2437855",
   "metadata": {
    "papermill": {
     "duration": 0.029976,
     "end_time": "2021-07-22T04:46:21.220480",
     "exception": false,
     "start_time": "2021-07-22T04:46:21.190504",
     "status": "completed"
    },
    "tags": []
   },
   "source": [
    "Similarly to what has been done previously, a graph of the SoH is made for each cycle, the horizontal line represents the threshold of 70% in which the battery already fulfills its life cycle and it is advisable to make the change."
   ]
  },
  {
   "cell_type": "code",
   "execution_count": 8,
   "id": "4d1b9991",
   "metadata": {
    "execution": {
     "iopub.execute_input": "2021-07-22T04:46:21.305481Z",
     "iopub.status.busy": "2021-07-22T04:46:21.288903Z",
     "iopub.status.idle": "2021-07-22T04:46:21.535452Z",
     "shell.execute_reply": "2021-07-22T04:46:21.534745Z",
     "shell.execute_reply.started": "2021-07-21T14:56:06.288338Z"
    },
    "papermill": {
     "duration": 0.284715,
     "end_time": "2021-07-22T04:46:21.535620",
     "exception": false,
     "start_time": "2021-07-22T04:46:21.250905",
     "status": "completed"
    },
    "tags": []
   },
   "outputs": [
    {
     "data": {
      "text/plain": [
       "Text(0.5, 1.0, 'Discharge B0005')"
      ]
     },
     "execution_count": 8,
     "metadata": {},
     "output_type": "execute_result"
    },
    {
     "data": {
      "image/png": "[encoded data removed]",
      "text/plain": [
       "<Figure size 800x500 with 1 Axes>"
      ]
     },
     "metadata": {},
     "output_type": "display_data"
    }
   ],
   "source": [
    "plot_df = dis_ele.loc[(dis_ele['cycle']>=1),['cycle','SoH']]\n",
    "sns.set_style(\"white\")\n",
    "plt.figure(figsize=(8, 5))\n",
    "plt.plot(plot_df['cycle'], plot_df['SoH'])\n",
    "#Draw threshold\n",
    "plt.plot([0.,len(capacity)], [0.70, 0.70])\n",
    "plt.ylabel('SOH')\n",
    "# make x-axis ticks legible\n",
    "adf = plt.gca().get_xaxis().get_major_formatter()\n",
    "plt.xlabel('cycle')\n",
    "plt.title('Discharge B0005')"
   ]
  },
  {
   "cell_type": "markdown",
   "id": "f6600911",
   "metadata": {
    "papermill": {
     "duration": 0.031359,
     "end_time": "2021-07-22T04:46:21.599694",
     "exception": false,
     "start_time": "2021-07-22T04:46:21.568335",
     "status": "completed"
    },
    "tags": []
   },
   "source": [
    "# Training phase for calculating SoH\n",
    "The dataset is prepared in such a way that it can be used by Tensorflow in the training phase, for this, two structures are created corresponding to the input and output expected to be obtained. For the input data, the relevant characteristics of the dataset are filtered, which are:\n",
    "\n",
    "* Battery capacity\n",
    "* Voltage\n",
    "* Current\n",
    "* Temperature\n",
    "* Charging voltage\n",
    "* Charging current\n",
    "* Instant of time (from the start of the download)\n",
    "\n",
    "For the output data, the SoH of the battery is calculated and in both input and output cases, the values are normalized to a range of values between [0-1]."
   ]
  },
  {
   "cell_type": "code",
   "execution_count": 9,
   "id": "f20bd3ad",
   "metadata": {
    "execution": {
     "iopub.execute_input": "2021-07-22T04:46:21.692739Z",
     "iopub.status.busy": "2021-07-22T04:46:21.682242Z",
     "iopub.status.idle": "2021-07-22T04:46:22.268522Z",
     "shell.execute_reply": "2021-07-22T04:46:22.267883Z",
     "shell.execute_reply.started": "2021-07-21T14:56:06.552479Z"
    },
    "papermill": {
     "duration": 0.637334,
     "end_time": "2021-07-22T04:46:22.268685",
     "exception": false,
     "start_time": "2021-07-22T04:46:21.631351",
     "status": "completed"
    },
    "tags": []
   },
   "outputs": [
    {
     "name": "stdout",
     "output_type": "stream",
     "text": [
      "(50285, 7)\n",
      "(50285, 1)\n"
     ]
    }
   ],
   "source": [
    "C = dataset['capacity'][0]\n",
    "soh = []\n",
    "for i in range(len(dataset)):\n",
    "  soh.append([dataset['capacity'][i] / C])\n",
    "soh = pd.DataFrame(data=soh, columns=['SoH'])\n",
    "\n",
    "attribs=['capacity', 'voltage_measured', 'current_measured',\n",
    "         'temperature_measured', 'current_load', 'voltage_load', 'time']\n",
    "train_dataset = dataset[attribs]\n",
    "sc = MinMaxScaler(feature_range=(0,1))\n",
    "train_dataset = sc.fit_transform(train_dataset)\n",
    "print(train_dataset.shape)\n",
    "print(soh.shape)"
   ]
  },
  {
   "cell_type": "markdown",
   "id": "8f32e695",
   "metadata": {
    "papermill": {
     "duration": 0.031692,
     "end_time": "2021-07-22T04:46:22.332218",
     "exception": false,
     "start_time": "2021-07-22T04:46:22.300526",
     "status": "completed"
    },
    "tags": []
   },
   "source": [
    "Preparation of the model, 3 dense layers are used, and the parameters are used as they are in the paper: 3 dense layers and one dropout, and one of the ADAM type is used as optimizer"
   ]
  },
  {
   "cell_type": "code",
   "execution_count": 10,
   "id": "bd824395",
   "metadata": {
    "execution": {
     "iopub.execute_input": "2021-07-22T04:46:22.401756Z",
     "iopub.status.busy": "2021-07-22T04:46:22.400854Z",
     "iopub.status.idle": "2021-07-22T04:46:28.276559Z",
     "shell.execute_reply": "2021-07-22T04:46:28.275812Z",
     "shell.execute_reply.started": "2021-07-21T14:56:07.159332Z"
    },
    "papermill": {
     "duration": 5.912746,
     "end_time": "2021-07-22T04:46:28.276711",
     "exception": false,
     "start_time": "2021-07-22T04:46:22.363965",
     "status": "completed"
    },
    "tags": []
   },
   "outputs": [
    {
     "ename": "ModuleNotFoundError",
     "evalue": "No module named 'tensorflow'",
     "output_type": "error",
     "traceback": [
      "\u001b[0;31m---------------------------------------------------------------------------\u001b[0m",
      "\u001b[0;31mModuleNotFoundError\u001b[0m                       Traceback (most recent call last)",
      "Cell \u001b[0;32mIn[10], line 1\u001b[0m\n\u001b[0;32m----> 1\u001b[0m \u001b[38;5;28;01mimport\u001b[39;00m \u001b[38;5;21;01mtensorflow\u001b[39;00m \u001b[38;5;28;01mas\u001b[39;00m \u001b[38;5;21;01mtf\u001b[39;00m\n\u001b[1;32m      2\u001b[0m \u001b[38;5;28;01mfrom\u001b[39;00m \u001b[38;5;21;01mtensorflow\u001b[39;00m\u001b[38;5;21;01m.\u001b[39;00m\u001b[38;5;21;01mkeras\u001b[39;00m\u001b[38;5;21;01m.\u001b[39;00m\u001b[38;5;21;01mmodels\u001b[39;00m \u001b[38;5;28;01mimport\u001b[39;00m Sequential\n\u001b[1;32m      3\u001b[0m \u001b[38;5;28;01mfrom\u001b[39;00m \u001b[38;5;21;01mtensorflow\u001b[39;00m\u001b[38;5;21;01m.\u001b[39;00m\u001b[38;5;21;01mkeras\u001b[39;00m\u001b[38;5;21;01m.\u001b[39;00m\u001b[38;5;21;01mlayers\u001b[39;00m \u001b[38;5;28;01mimport\u001b[39;00m Dense\n",
      "\u001b[0;31mModuleNotFoundError\u001b[0m: No module named 'tensorflow'"
     ]
    }
   ],
   "source": [
    "import tensorflow as tf\n",
    "from tensorflow.keras.models import Sequential\n",
    "from tensorflow.keras.layers import Dense\n",
    "from tensorflow.keras.layers import Dropout\n",
    "from tensorflow.keras.layers import Flatten\n",
    "from tensorflow.keras.layers import LSTM\n",
    "from tensorflow.keras.optimizers import Adam"
   ]
  },
  {
   "cell_type": "code",
   "execution_count": 10,
   "id": "4c47442d",
   "metadata": {
    "execution": {
     "iopub.execute_input": "2021-07-22T04:46:28.348113Z",
     "iopub.status.busy": "2021-07-22T04:46:28.347374Z",
     "iopub.status.idle": "2021-07-22T04:46:28.477923Z",
     "shell.execute_reply": "2021-07-22T04:46:28.478471Z",
     "shell.execute_reply.started": "2021-07-21T14:56:13.084599Z"
    },
    "papermill": {
     "duration": 0.170098,
     "end_time": "2021-07-22T04:46:28.478675",
     "exception": false,
     "start_time": "2021-07-22T04:46:28.308577",
     "status": "completed"
    },
    "tags": []
   },
   "outputs": [
    {
     "name": "stdout",
     "output_type": "stream",
     "text": [
      "Model: \"sequential\"\n",
      "_________________________________________________________________\n",
      "Layer (type)                 Output Shape              Param #   \n",
      "=================================================================\n",
      "dense (Dense)                (None, 8)                 64        \n",
      "_________________________________________________________________\n",
      "dense_1 (Dense)              (None, 8)                 72        \n",
      "_________________________________________________________________\n",
      "dense_2 (Dense)              (None, 8)                 72        \n",
      "_________________________________________________________________\n",
      "dropout (Dropout)            (None, 8)                 0         \n",
      "_________________________________________________________________\n",
      "dense_3 (Dense)              (None, 1)                 9         \n",
      "=================================================================\n",
      "Total params: 217\n",
      "Trainable params: 217\n",
      "Non-trainable params: 0\n",
      "_________________________________________________________________\n"
     ]
    }
   ],
   "source": [
    "model = Sequential()\n",
    "model.add(Dense(8, activation='relu', input_dim=train_dataset.shape[1]))\n",
    "model.add(Dense(8, activation='relu'))\n",
    "model.add(Dense(8, activation='relu'))\n",
    "model.add(Dropout(rate=0.25))\n",
    "model.add(Dense(1))\n",
    "model.summary()\n",
    "model.compile(optimizer=Adam(beta_1=0.9, beta_2=0.999, epsilon=1e-08), loss='mean_absolute_error')"
   ]
  },
  {
   "cell_type": "markdown",
   "id": "38385960",
   "metadata": {
    "papermill": {
     "duration": 0.032932,
     "end_time": "2021-07-22T04:46:28.545856",
     "exception": false,
     "start_time": "2021-07-22T04:46:28.512924",
     "status": "completed"
    },
    "tags": []
   },
   "source": [
    "## The model is trained, 50 epochs are used for training"
   ]
  },
  {
   "cell_type": "code",
   "execution_count": 11,
   "id": "442a36cd",
   "metadata": {
    "_kg_hide-input": true,
    "_kg_hide-output": true,
    "execution": {
     "iopub.execute_input": "2021-07-22T04:46:28.613768Z",
     "iopub.status.busy": "2021-07-22T04:46:28.613147Z",
     "iopub.status.idle": "2021-07-22T04:48:12.679705Z",
     "shell.execute_reply": "2021-07-22T04:48:12.679066Z",
     "shell.execute_reply.started": "2021-07-21T14:56:13.211493Z"
    },
    "papermill": {
     "duration": 104.101427,
     "end_time": "2021-07-22T04:48:12.679866",
     "exception": false,
     "start_time": "2021-07-22T04:46:28.578439",
     "status": "completed"
    },
    "tags": []
   },
   "outputs": [
    {
     "name": "stdout",
     "output_type": "stream",
     "text": [
      "Epoch 1/50\n",
      "2012/2012 [==============================] - 3s 1ms/step - loss: 0.2121\n",
      "Epoch 2/50\n",
      "2012/2012 [==============================] - 2s 1ms/step - loss: 0.0290\n",
      "Epoch 3/50\n",
      "2012/2012 [==============================] - 2s 1ms/step - loss: 0.0285\n",
      "Epoch 4/50\n",
      "2012/2012 [==============================] - 2s 1ms/step - loss: 0.0225\n",
      "Epoch 5/50\n",
      "2012/2012 [==============================] - 2s 1ms/step - loss: 0.0212\n",
      "Epoch 6/50\n",
      "2012/2012 [==============================] - 2s 1ms/step - loss: 0.0203\n",
      "Epoch 7/50\n",
      "2012/2012 [==============================] - 2s 1ms/step - loss: 0.0201\n",
      "Epoch 8/50\n",
      "2012/2012 [==============================] - 2s 1ms/step - loss: 0.0207\n",
      "Epoch 9/50\n",
      "2012/2012 [==============================] - 2s 1ms/step - loss: 0.0203\n",
      "Epoch 10/50\n",
      "2012/2012 [==============================] - 2s 1ms/step - loss: 0.0204\n",
      "Epoch 11/50\n",
      "2012/2012 [==============================] - 2s 990us/step - loss: 0.0207\n",
      "Epoch 12/50\n",
      "2012/2012 [==============================] - 2s 1ms/step - loss: 0.0205\n",
      "Epoch 13/50\n",
      "2012/2012 [==============================] - 2s 1ms/step - loss: 0.0205\n",
      "Epoch 14/50\n",
      "2012/2012 [==============================] - 2s 1ms/step - loss: 0.0203\n",
      "Epoch 15/50\n",
      "2012/2012 [==============================] - 2s 1ms/step - loss: 0.0202\n",
      "Epoch 16/50\n",
      "2012/2012 [==============================] - 2s 1ms/step - loss: 0.0201\n",
      "Epoch 17/50\n",
      "2012/2012 [==============================] - 2s 990us/step - loss: 0.0204\n",
      "Epoch 18/50\n",
      "2012/2012 [==============================] - 2s 1ms/step - loss: 0.0203\n",
      "Epoch 19/50\n",
      "2012/2012 [==============================] - 2s 1ms/step - loss: 0.0201\n",
      "Epoch 20/50\n",
      "2012/2012 [==============================] - 2s 1ms/step - loss: 0.0199\n",
      "Epoch 21/50\n",
      "2012/2012 [==============================] - 2s 1ms/step - loss: 0.0199\n",
      "Epoch 22/50\n",
      "2012/2012 [==============================] - 2s 1ms/step - loss: 0.0202\n",
      "Epoch 23/50\n",
      "2012/2012 [==============================] - 2s 1ms/step - loss: 0.0201\n",
      "Epoch 24/50\n",
      "2012/2012 [==============================] - 2s 1ms/step - loss: 0.0208\n",
      "Epoch 25/50\n",
      "2012/2012 [==============================] - 2s 1ms/step - loss: 0.0203\n",
      "Epoch 26/50\n",
      "2012/2012 [==============================] - 2s 1ms/step - loss: 0.0202\n",
      "Epoch 27/50\n",
      "2012/2012 [==============================] - 2s 996us/step - loss: 0.0199\n",
      "Epoch 28/50\n",
      "2012/2012 [==============================] - 2s 1ms/step - loss: 0.0202\n",
      "Epoch 29/50\n",
      "2012/2012 [==============================] - 2s 1ms/step - loss: 0.0201\n",
      "Epoch 30/50\n",
      "2012/2012 [==============================] - 2s 1ms/step - loss: 0.0203\n",
      "Epoch 31/50\n",
      "2012/2012 [==============================] - 2s 1ms/step - loss: 0.0203\n",
      "Epoch 32/50\n",
      "2012/2012 [==============================] - 2s 1ms/step - loss: 0.0201\n",
      "Epoch 33/50\n",
      "2012/2012 [==============================] - 2s 1ms/step - loss: 0.0203\n",
      "Epoch 34/50\n",
      "2012/2012 [==============================] - 2s 1ms/step - loss: 0.0202\n",
      "Epoch 35/50\n",
      "2012/2012 [==============================] - 2s 1ms/step - loss: 0.0204\n",
      "Epoch 36/50\n",
      "2012/2012 [==============================] - 2s 1ms/step - loss: 0.0200\n",
      "Epoch 37/50\n",
      "2012/2012 [==============================] - 2s 1ms/step - loss: 0.0200\n",
      "Epoch 38/50\n",
      "2012/2012 [==============================] - 2s 1ms/step - loss: 0.0203\n",
      "Epoch 39/50\n",
      "2012/2012 [==============================] - 2s 1ms/step - loss: 0.0200\n",
      "Epoch 40/50\n",
      "2012/2012 [==============================] - 2s 1ms/step - loss: 0.0200\n",
      "Epoch 41/50\n",
      "2012/2012 [==============================] - 2s 1ms/step - loss: 0.0201\n",
      "Epoch 42/50\n",
      "2012/2012 [==============================] - 2s 1ms/step - loss: 0.0200\n",
      "Epoch 43/50\n",
      "2012/2012 [==============================] - 2s 1ms/step - loss: 0.0202\n",
      "Epoch 44/50\n",
      "2012/2012 [==============================] - 2s 1ms/step - loss: 0.0198\n",
      "Epoch 45/50\n",
      "2012/2012 [==============================] - 2s 1ms/step - loss: 0.0204\n",
      "Epoch 46/50\n",
      "2012/2012 [==============================] - 2s 1ms/step - loss: 0.0207\n",
      "Epoch 47/50\n",
      "2012/2012 [==============================] - 2s 1ms/step - loss: 0.0203\n",
      "Epoch 48/50\n",
      "2012/2012 [==============================] - 2s 1ms/step - loss: 0.0203\n",
      "Epoch 49/50\n",
      "2012/2012 [==============================] - 2s 1ms/step - loss: 0.0203\n",
      "Epoch 50/50\n",
      "2012/2012 [==============================] - 2s 1ms/step - loss: 0.0201\n"
     ]
    },
    {
     "data": {
      "text/plain": [
       "<tensorflow.python.keras.callbacks.History at 0x7f648434b090>"
      ]
     },
     "execution_count": 11,
     "metadata": {},
     "output_type": "execute_result"
    }
   ],
   "source": [
    "model.fit(x=train_dataset, y=soh.to_numpy(), batch_size=25, epochs=50)"
   ]
  },
  {
   "cell_type": "markdown",
   "id": "c84e8196",
   "metadata": {
    "papermill": {
     "duration": 0.675335,
     "end_time": "2021-07-22T04:48:14.073174",
     "exception": false,
     "start_time": "2021-07-22T04:48:13.397839",
     "status": "completed"
    },
    "tags": []
   },
   "source": [
    "# Testing to test the SoH prediction model\n",
    "To test the correctness of the model, the information of the same battery is loaded (B0006)"
   ]
  },
  {
   "cell_type": "code",
   "execution_count": 12,
   "id": "0b111770",
   "metadata": {
    "execution": {
     "iopub.execute_input": "2021-07-22T04:48:15.421689Z",
     "iopub.status.busy": "2021-07-22T04:48:15.420667Z",
     "iopub.status.idle": "2021-07-22T04:48:16.642636Z",
     "shell.execute_reply": "2021-07-22T04:48:16.642067Z",
     "shell.execute_reply.started": "2021-07-21T14:57:54.790764Z"
    },
    "papermill": {
     "duration": 1.901195,
     "end_time": "2021-07-22T04:48:16.642783",
     "exception": false,
     "start_time": "2021-07-22T04:48:14.741588",
     "status": "completed"
    },
    "tags": []
   },
   "outputs": [
    {
     "name": "stdout",
     "output_type": "stream",
     "text": [
      "Total data in dataset:  616\n",
      "[1, 24, datetime.datetime(2008, 4, 2, 15, 25, 41), 2.035337591005598, 4.179799607333447, -0.0023663271409738672, 24.277567510331888, -0.0006, 0.0, 0.0]\n",
      "   cycle  ambient_temperature            datetime  capacity  voltage_measured  \\\n",
      "0      1                   24 2008-04-02 15:25:41  2.035338          4.179800   \n",
      "1      1                   24 2008-04-02 15:25:41  2.035338          4.179823   \n",
      "2      1                   24 2008-04-02 15:25:41  2.035338          3.966528   \n",
      "3      1                   24 2008-04-02 15:25:41  2.035338          3.945886   \n",
      "4      1                   24 2008-04-02 15:25:41  2.035338          3.930354   \n",
      "\n",
      "   current_measured  temperature_measured  current_load  voltage_load    time  \n",
      "0         -0.002366             24.277568       -0.0006         0.000   0.000  \n",
      "1          0.000434             24.277073       -0.0006         4.195  16.781  \n",
      "2         -2.014242             24.366226       -1.9990         3.070  35.703  \n",
      "3         -2.008730             24.515123       -1.9990         3.045  53.781  \n",
      "4         -2.013381             24.676053       -1.9990         3.026  71.922  \n",
      "   cycle            datetime  capacity       SoH\n",
      "0      1 2008-04-02 15:25:41  2.035338  1.000000\n",
      "1      2 2008-04-02 19:43:48  2.025140  0.994990\n",
      "2      3 2008-04-03 00:01:06  2.013326  0.989185\n",
      "3      4 2008-04-03 04:16:37  2.013285  0.989165\n",
      "4      5 2008-04-03 08:33:25  2.000528  0.982898\n"
     ]
    }
   ],
   "source": [
    "dataset_val, capacity_val = load_data('B0006')\n",
    "attrib=['cycle', 'datetime', 'capacity']\n",
    "dis_ele = capacity_val[attrib]\n",
    "C = dis_ele['capacity'][0]\n",
    "for i in range(len(dis_ele)):\n",
    "    dis_ele['SoH']=(dis_ele['capacity']) / C\n",
    "print(dataset_val.head(5))\n",
    "print(dis_ele.head(5))"
   ]
  },
  {
   "cell_type": "markdown",
   "id": "b277f8d0",
   "metadata": {
    "papermill": {
     "duration": 0.671026,
     "end_time": "2021-07-22T04:48:18.037855",
     "exception": false,
     "start_time": "2021-07-22T04:48:17.366829",
     "status": "completed"
    },
    "tags": []
   },
   "source": [
    "A table is created containing the real SoH and the SoH predicted by the network and the root of the mean square error is calculated."
   ]
  },
  {
   "cell_type": "code",
   "execution_count": 13,
   "id": "6a035849",
   "metadata": {
    "execution": {
     "iopub.execute_input": "2021-07-22T04:48:19.393512Z",
     "iopub.status.busy": "2021-07-22T04:48:19.392417Z",
     "iopub.status.idle": "2021-07-22T04:48:20.818076Z",
     "shell.execute_reply": "2021-07-22T04:48:20.818646Z",
     "shell.execute_reply.started": "2021-07-21T14:57:55.970966Z"
    },
    "papermill": {
     "duration": 2.108201,
     "end_time": "2021-07-22T04:48:20.818857",
     "exception": false,
     "start_time": "2021-07-22T04:48:18.710656",
     "status": "completed"
    },
    "tags": []
   },
   "outputs": [
    {
     "name": "stdout",
     "output_type": "stream",
     "text": [
      "(50285, 1)\n",
      "   cycle       SoH    NewSoH\n",
      "0      1  1.000000  0.998882\n",
      "1      2  0.994990  0.995428\n",
      "2      3  0.989185  0.991381\n",
      "3      4  0.989165  0.991373\n",
      "4      5  0.982898  0.986936\n",
      "5      6  0.989467  0.991528\n",
      "6      7  0.989075  0.991262\n",
      "7      8  0.967304  0.976103\n",
      "8      9  0.966997  0.975897\n",
      "9     10  0.961625  0.972082\n",
      "Root Mean Square Error:  0.09069180316427912\n"
     ]
    }
   ],
   "source": [
    "attrib=['capacity', 'voltage_measured', 'current_measured',\n",
    "        'temperature_measured', 'current_load', 'voltage_load', 'time']\n",
    "soh_pred = model.predict(sc.fit_transform(dataset_val[attrib]))\n",
    "print(soh_pred.shape)\n",
    "\n",
    "C = dataset_val['capacity'][0]\n",
    "soh = []\n",
    "for i in range(len(dataset_val)):\n",
    "  soh.append(dataset_val['capacity'][i] / C)\n",
    "new_soh = dataset_val.loc[(dataset_val['cycle'] >= 1), ['cycle']]\n",
    "new_soh['SoH'] =  soh\n",
    "new_soh['NewSoH'] = soh_pred\n",
    "new_soh = new_soh.groupby(['cycle']).mean().reset_index()\n",
    "print(new_soh.head(10))\n",
    "rms = np.sqrt(mean_squared_error(new_soh['SoH'], new_soh['NewSoH']))\n",
    "print('Root Mean Square Error: ', rms)"
   ]
  },
  {
   "cell_type": "markdown",
   "id": "2300dec7",
   "metadata": {
    "papermill": {
     "duration": 0.671506,
     "end_time": "2021-07-22T04:48:22.163751",
     "exception": false,
     "start_time": "2021-07-22T04:48:21.492245",
     "status": "completed"
    },
    "tags": []
   },
   "source": [
    "Finally both SoH are plotted to observe their differences"
   ]
  },
  {
   "cell_type": "code",
   "execution_count": 14,
   "id": "fa1f563f",
   "metadata": {
    "execution": {
     "iopub.execute_input": "2021-07-22T04:48:23.529438Z",
     "iopub.status.busy": "2021-07-22T04:48:23.528699Z",
     "iopub.status.idle": "2021-07-22T04:48:23.813697Z",
     "shell.execute_reply": "2021-07-22T04:48:23.814210Z",
     "shell.execute_reply.started": "2021-07-21T14:57:57.379784Z"
    },
    "papermill": {
     "duration": 0.980385,
     "end_time": "2021-07-22T04:48:23.814387",
     "exception": false,
     "start_time": "2021-07-22T04:48:22.834002",
     "status": "completed"
    },
    "tags": []
   },
   "outputs": [
    {
     "data": {
      "text/plain": [
       "Text(0.5, 1.0, 'Discharge B0006')"
      ]
     },
     "execution_count": 14,
     "metadata": {},
     "output_type": "execute_result"
    },
    {
     "data": {
      "image/png": "[encoded data removed]",
      "text/plain": [
       "<Figure size 1152x720 with 1 Axes>"
      ]
     },
     "metadata": {},
     "output_type": "display_data"
    }
   ],
   "source": [
    "plot_df = new_soh.loc[(new_soh['cycle']>=1),['cycle','SoH', 'NewSoH']]\n",
    "sns.set_style(\"white\")\n",
    "plt.figure(figsize=(16, 10))\n",
    "plt.plot(plot_df['cycle'], plot_df['SoH'], label='SoH')\n",
    "plt.plot(plot_df['cycle'], plot_df['NewSoH'], label='Predicted SoH')\n",
    "#Draw threshold\n",
    "#plt.plot([0.,len(capacity)], [0.70, 0.70], label='Threshold')\n",
    "plt.ylabel('SOH')\n",
    "# make x-axis ticks legible\n",
    "adf = plt.gca().get_xaxis().get_major_formatter()\n",
    "plt.xlabel('cycle')\n",
    "plt.legend()\n",
    "plt.title('Discharge B0006')"
   ]
  },
  {
   "cell_type": "markdown",
   "id": "f56032e3",
   "metadata": {
    "papermill": {
     "duration": 0.67514,
     "end_time": "2021-07-22T04:48:25.158704",
     "exception": false,
     "start_time": "2021-07-22T04:48:24.483564",
     "status": "completed"
    },
    "tags": []
   },
   "source": [
    "For the estimation of SoH, it can be seen that the data pattern is learned by the model correctly, as predicted by the theory, since the shape of the curves is almost identical. The SoH shown has the same behavior as expected in theory, which is corroborated with the root mean square error value of the graph in illustration 8, whose value of 9% is very similar to that found previously. This reaffirms the precision when making the prediction."
   ]
  },
  {
   "cell_type": "markdown",
   "id": "cc44cd89",
   "metadata": {
    "papermill": {
     "duration": 0.677676,
     "end_time": "2021-07-22T04:48:26.558756",
     "exception": false,
     "start_time": "2021-07-22T04:48:25.881080",
     "status": "completed"
    },
    "tags": []
   },
   "source": [
    "# RUL estimation\n",
    "In the same way that was done for the estimation of SoH, the training and testing dataset is prepared, in this particular case the battery capacity data is used using the first data of the first 50 cycles to predict the capacity in the following cycles in such a way as to be able to know when the threshold of the battery is reached and estimate the remaining cycles to reach the End of Life of the battery"
   ]
  },
  {
   "cell_type": "code",
   "execution_count": 15,
   "id": "856b0b0c",
   "metadata": {
    "execution": {
     "iopub.execute_input": "2021-07-22T04:48:27.942312Z",
     "iopub.status.busy": "2021-07-22T04:48:27.941532Z",
     "iopub.status.idle": "2021-07-22T04:48:29.262524Z",
     "shell.execute_reply": "2021-07-22T04:48:29.261912Z",
     "shell.execute_reply.started": "2021-07-21T14:57:57.684156Z"
    },
    "papermill": {
     "duration": 2.0057,
     "end_time": "2021-07-22T04:48:29.262689",
     "exception": false,
     "start_time": "2021-07-22T04:48:27.256989",
     "status": "completed"
    },
    "tags": []
   },
   "outputs": [
    {
     "name": "stdout",
     "output_type": "stream",
     "text": [
      "Total data in dataset:  616\n",
      "[1, 24, datetime.datetime(2008, 4, 2, 15, 25, 41), 1.8564874208181574, 4.191491807505295, -0.004901589207462691, 24.330033885570543, -0.0006, 0.0, 0.0]\n"
     ]
    }
   ],
   "source": [
    "dataset_val, capacity_val = load_data('B0005')\n",
    "attrib=['cycle', 'datetime', 'capacity']\n",
    "dis_ele = capacity_val[attrib]\n",
    "rows=['cycle','capacity']\n",
    "dataset=dis_ele[rows]\n",
    "data_train=dataset[(dataset['cycle']<50)]\n",
    "data_set_train=data_train.iloc[:,1:2].values\n",
    "data_test=dataset[(dataset['cycle']>=50)]\n",
    "data_set_test=data_test.iloc[:,1:2].values\n",
    "\n",
    "sc=MinMaxScaler(feature_range=(0,1))\n",
    "data_set_train=sc.fit_transform(data_set_train)\n",
    "data_set_test=sc.transform(data_set_test)\n",
    "\n",
    "X_train=[]\n",
    "y_train=[]\n",
    "#take the last 10t to predict 10t+1\n",
    "for i in range(10,49):\n",
    "    X_train.append(data_set_train[i-10:i,0])\n",
    "    y_train.append(data_set_train[i,0])\n",
    "X_train,y_train=np.array(X_train),np.array(y_train)\n",
    " \n",
    "X_train=np.reshape(X_train,(X_train.shape[0],X_train.shape[1],1))"
   ]
  },
  {
   "cell_type": "markdown",
   "id": "e154d803",
   "metadata": {
    "papermill": {
     "duration": 0.681079,
     "end_time": "2021-07-22T04:48:30.621854",
     "exception": false,
     "start_time": "2021-07-22T04:48:29.940775",
     "status": "completed"
    },
    "tags": []
   },
   "source": [
    "In this section the model is trained, based on the proposal of [2] and making use of LSTM-type networks instead of standard neural networks."
   ]
  },
  {
   "cell_type": "code",
   "execution_count": 16,
   "id": "8a144880",
   "metadata": {
    "execution": {
     "iopub.execute_input": "2021-07-22T04:48:31.982130Z",
     "iopub.status.busy": "2021-07-22T04:48:31.981387Z",
     "iopub.status.idle": "2021-07-22T04:48:33.064373Z",
     "shell.execute_reply": "2021-07-22T04:48:33.063796Z",
     "shell.execute_reply.started": "2021-07-21T14:57:58.998379Z"
    },
    "papermill": {
     "duration": 1.766531,
     "end_time": "2021-07-22T04:48:33.064517",
     "exception": false,
     "start_time": "2021-07-22T04:48:31.297986",
     "status": "completed"
    },
    "tags": []
   },
   "outputs": [
    {
     "name": "stdout",
     "output_type": "stream",
     "text": [
      "Model: \"sequential_1\"\n",
      "_________________________________________________________________\n",
      "Layer (type)                 Output Shape              Param #   \n",
      "=================================================================\n",
      "lstm (LSTM)                  (None, 10, 200)           161600    \n",
      "_________________________________________________________________\n",
      "dropout_1 (Dropout)          (None, 10, 200)           0         \n",
      "_________________________________________________________________\n",
      "lstm_1 (LSTM)                (None, 10, 200)           320800    \n",
      "_________________________________________________________________\n",
      "dropout_2 (Dropout)          (None, 10, 200)           0         \n",
      "_________________________________________________________________\n",
      "lstm_2 (LSTM)                (None, 10, 200)           320800    \n",
      "_________________________________________________________________\n",
      "dropout_3 (Dropout)          (None, 10, 200)           0         \n",
      "_________________________________________________________________\n",
      "lstm_3 (LSTM)                (None, 200)               320800    \n",
      "_________________________________________________________________\n",
      "dropout_4 (Dropout)          (None, 200)               0         \n",
      "_________________________________________________________________\n",
      "dense_4 (Dense)              (None, 1)                 201       \n",
      "=================================================================\n",
      "Total params: 1,124,201\n",
      "Trainable params: 1,124,201\n",
      "Non-trainable params: 0\n",
      "_________________________________________________________________\n"
     ]
    }
   ],
   "source": [
    "regress = Sequential()\n",
    "regress.add(LSTM(units=200, return_sequences=True, input_shape=(X_train.shape[1],1)))\n",
    "regress.add(Dropout(0.3))\n",
    "regress.add(LSTM(units=200, return_sequences=True))\n",
    "regress.add(Dropout(0.3))\n",
    "regress.add(LSTM(units=200, return_sequences=True))\n",
    "regress.add(Dropout(0.3))\n",
    "regress.add(LSTM(units=200))\n",
    "regress.add(Dropout(0.3))\n",
    "regress.add(Dense(units=1))\n",
    "regress.compile(optimizer='adam',loss='mean_squared_error')\n",
    "regress.summary()"
   ]
  },
  {
   "cell_type": "code",
   "execution_count": 17,
   "id": "091b7174",
   "metadata": {
    "execution": {
     "iopub.execute_input": "2021-07-22T04:48:34.430939Z",
     "iopub.status.busy": "2021-07-22T04:48:34.428027Z",
     "iopub.status.idle": "2021-07-22T04:49:07.528092Z",
     "shell.execute_reply": "2021-07-22T04:49:07.527435Z",
     "shell.execute_reply.started": "2021-07-21T14:58:00.03382Z"
    },
    "papermill": {
     "duration": 33.784392,
     "end_time": "2021-07-22T04:49:07.528269",
     "exception": false,
     "start_time": "2021-07-22T04:48:33.743877",
     "status": "completed"
    },
    "tags": []
   },
   "outputs": [
    {
     "name": "stdout",
     "output_type": "stream",
     "text": [
      "Epoch 1/200\n",
      "2/2 [==============================] - 7s 66ms/step - loss: 0.3334\n",
      "Epoch 2/200\n",
      "2/2 [==============================] - 0s 61ms/step - loss: 0.1180\n",
      "Epoch 3/200\n",
      "2/2 [==============================] - 0s 61ms/step - loss: 0.1960\n",
      "Epoch 4/200\n",
      "2/2 [==============================] - 0s 57ms/step - loss: 0.0459\n",
      "Epoch 5/200\n",
      "2/2 [==============================] - 0s 60ms/step - loss: 0.0953\n",
      "Epoch 6/200\n",
      "2/2 [==============================] - 0s 59ms/step - loss: 0.1012\n",
      "Epoch 7/200\n",
      "2/2 [==============================] - 0s 58ms/step - loss: 0.0657\n",
      "Epoch 8/200\n",
      "2/2 [==============================] - 0s 57ms/step - loss: 0.0411\n",
      "Epoch 9/200\n",
      "2/2 [==============================] - 0s 62ms/step - loss: 0.0547\n",
      "Epoch 10/200\n",
      "2/2 [==============================] - 0s 56ms/step - loss: 0.0553\n",
      "Epoch 11/200\n",
      "2/2 [==============================] - 0s 59ms/step - loss: 0.0452\n",
      "Epoch 12/200\n",
      "2/2 [==============================] - 0s 58ms/step - loss: 0.0474\n",
      "Epoch 13/200\n",
      "2/2 [==============================] - 0s 58ms/step - loss: 0.0497\n",
      "Epoch 14/200\n",
      "2/2 [==============================] - 0s 56ms/step - loss: 0.0482\n",
      "Epoch 15/200\n",
      "2/2 [==============================] - 0s 58ms/step - loss: 0.0458\n",
      "Epoch 16/200\n",
      "2/2 [==============================] - 0s 57ms/step - loss: 0.0467\n",
      "Epoch 17/200\n",
      "2/2 [==============================] - 0s 55ms/step - loss: 0.0480\n",
      "Epoch 18/200\n",
      "2/2 [==============================] - 0s 56ms/step - loss: 0.0449\n",
      "Epoch 19/200\n",
      "2/2 [==============================] - 0s 59ms/step - loss: 0.0507\n",
      "Epoch 20/200\n",
      "2/2 [==============================] - 0s 58ms/step - loss: 0.0432\n",
      "Epoch 21/200\n",
      "2/2 [==============================] - 0s 55ms/step - loss: 0.0465\n",
      "Epoch 22/200\n",
      "2/2 [==============================] - 0s 60ms/step - loss: 0.0499\n",
      "Epoch 23/200\n",
      "2/2 [==============================] - 0s 57ms/step - loss: 0.0407\n",
      "Epoch 24/200\n",
      "2/2 [==============================] - 0s 57ms/step - loss: 0.0405\n",
      "Epoch 25/200\n",
      "2/2 [==============================] - 0s 57ms/step - loss: 0.0424\n",
      "Epoch 26/200\n",
      "2/2 [==============================] - 0s 57ms/step - loss: 0.0397\n",
      "Epoch 27/200\n",
      "2/2 [==============================] - 0s 55ms/step - loss: 0.0405\n",
      "Epoch 28/200\n",
      "2/2 [==============================] - 0s 59ms/step - loss: 0.0437\n",
      "Epoch 29/200\n",
      "2/2 [==============================] - 0s 56ms/step - loss: 0.0431\n",
      "Epoch 30/200\n",
      "2/2 [==============================] - 0s 100ms/step - loss: 0.0412\n",
      "Epoch 31/200\n",
      "2/2 [==============================] - 0s 73ms/step - loss: 0.0379\n",
      "Epoch 32/200\n",
      "2/2 [==============================] - 0s 63ms/step - loss: 0.0414\n",
      "Epoch 33/200\n",
      "2/2 [==============================] - 0s 68ms/step - loss: 0.0388\n",
      "Epoch 34/200\n",
      "2/2 [==============================] - 0s 63ms/step - loss: 0.0367\n",
      "Epoch 35/200\n",
      "2/2 [==============================] - 0s 63ms/step - loss: 0.0375\n",
      "Epoch 36/200\n",
      "2/2 [==============================] - 0s 62ms/step - loss: 0.0394\n",
      "Epoch 37/200\n",
      "2/2 [==============================] - 0s 65ms/step - loss: 0.0400\n",
      "Epoch 38/200\n",
      "2/2 [==============================] - 0s 74ms/step - loss: 0.0344\n",
      "Epoch 39/200\n",
      "2/2 [==============================] - 0s 59ms/step - loss: 0.0360\n",
      "Epoch 40/200\n",
      "2/2 [==============================] - 0s 58ms/step - loss: 0.0413\n",
      "Epoch 41/200\n",
      "2/2 [==============================] - 0s 57ms/step - loss: 0.0434\n",
      "Epoch 42/200\n",
      "2/2 [==============================] - 0s 56ms/step - loss: 0.0381\n",
      "Epoch 43/200\n",
      "2/2 [==============================] - 0s 57ms/step - loss: 0.0436\n",
      "Epoch 44/200\n",
      "2/2 [==============================] - 0s 58ms/step - loss: 0.0373\n",
      "Epoch 45/200\n",
      "2/2 [==============================] - 0s 61ms/step - loss: 0.0369\n",
      "Epoch 46/200\n",
      "2/2 [==============================] - 0s 60ms/step - loss: 0.0398\n",
      "Epoch 47/200\n",
      "2/2 [==============================] - 0s 58ms/step - loss: 0.0425\n",
      "Epoch 48/200\n",
      "2/2 [==============================] - 0s 57ms/step - loss: 0.0390\n",
      "Epoch 49/200\n",
      "2/2 [==============================] - 0s 60ms/step - loss: 0.0401\n",
      "Epoch 50/200\n",
      "2/2 [==============================] - 0s 60ms/step - loss: 0.0361\n",
      "Epoch 51/200\n",
      "2/2 [==============================] - 0s 60ms/step - loss: 0.0398\n",
      "Epoch 52/200\n",
      "2/2 [==============================] - 0s 60ms/step - loss: 0.0376\n",
      "Epoch 53/200\n",
      "2/2 [==============================] - 0s 62ms/step - loss: 0.0387\n",
      "Epoch 54/200\n",
      "2/2 [==============================] - 0s 59ms/step - loss: 0.0413\n",
      "Epoch 55/200\n",
      "2/2 [==============================] - 0s 59ms/step - loss: 0.0448\n",
      "Epoch 56/200\n",
      "2/2 [==============================] - 0s 65ms/step - loss: 0.0372\n",
      "Epoch 57/200\n",
      "2/2 [==============================] - 0s 61ms/step - loss: 0.0440\n",
      "Epoch 58/200\n",
      "2/2 [==============================] - 0s 58ms/step - loss: 0.0326\n",
      "Epoch 59/200\n",
      "2/2 [==============================] - 0s 59ms/step - loss: 0.0405\n",
      "Epoch 60/200\n",
      "2/2 [==============================] - 0s 56ms/step - loss: 0.0379\n",
      "Epoch 61/200\n",
      "2/2 [==============================] - 0s 87ms/step - loss: 0.0346\n",
      "Epoch 62/200\n",
      "2/2 [==============================] - 0s 61ms/step - loss: 0.0330\n",
      "Epoch 63/200\n",
      "2/2 [==============================] - 0s 62ms/step - loss: 0.0404\n",
      "Epoch 64/200\n",
      "2/2 [==============================] - 0s 60ms/step - loss: 0.0391\n",
      "Epoch 65/200\n",
      "2/2 [==============================] - 0s 58ms/step - loss: 0.0408\n",
      "Epoch 66/200\n",
      "2/2 [==============================] - 0s 59ms/step - loss: 0.0467\n",
      "Epoch 67/200\n",
      "2/2 [==============================] - 0s 62ms/step - loss: 0.0337\n",
      "Epoch 68/200\n",
      "2/2 [==============================] - 0s 58ms/step - loss: 0.0416\n",
      "Epoch 69/200\n",
      "2/2 [==============================] - 0s 58ms/step - loss: 0.0387\n",
      "Epoch 70/200\n",
      "2/2 [==============================] - 0s 59ms/step - loss: 0.0380\n",
      "Epoch 71/200\n",
      "2/2 [==============================] - 0s 59ms/step - loss: 0.0402\n",
      "Epoch 72/200\n",
      "2/2 [==============================] - 0s 60ms/step - loss: 0.0431\n",
      "Epoch 73/200\n",
      "2/2 [==============================] - 0s 59ms/step - loss: 0.0334\n",
      "Epoch 74/200\n",
      "2/2 [==============================] - 0s 61ms/step - loss: 0.0408\n",
      "Epoch 75/200\n",
      "2/2 [==============================] - 0s 60ms/step - loss: 0.0348\n",
      "Epoch 76/200\n",
      "2/2 [==============================] - 0s 64ms/step - loss: 0.0413\n",
      "Epoch 77/200\n",
      "2/2 [==============================] - 0s 59ms/step - loss: 0.0347\n",
      "Epoch 78/200\n",
      "2/2 [==============================] - 0s 59ms/step - loss: 0.0416\n",
      "Epoch 79/200\n",
      "2/2 [==============================] - 0s 57ms/step - loss: 0.0392\n",
      "Epoch 80/200\n",
      "2/2 [==============================] - 0s 59ms/step - loss: 0.0291\n",
      "Epoch 81/200\n",
      "2/2 [==============================] - 0s 60ms/step - loss: 0.0332\n",
      "Epoch 82/200\n",
      "2/2 [==============================] - 0s 59ms/step - loss: 0.0378\n",
      "Epoch 83/200\n",
      "2/2 [==============================] - 0s 57ms/step - loss: 0.0357\n",
      "Epoch 84/200\n",
      "2/2 [==============================] - 0s 59ms/step - loss: 0.0344\n",
      "Epoch 85/200\n",
      "2/2 [==============================] - 0s 57ms/step - loss: 0.0316\n",
      "Epoch 86/200\n",
      "2/2 [==============================] - 0s 56ms/step - loss: 0.0459\n",
      "Epoch 87/200\n",
      "2/2 [==============================] - 0s 58ms/step - loss: 0.0353\n",
      "Epoch 88/200\n",
      "2/2 [==============================] - 0s 58ms/step - loss: 0.0379\n",
      "Epoch 89/200\n",
      "2/2 [==============================] - 0s 61ms/step - loss: 0.0321\n",
      "Epoch 90/200\n",
      "2/2 [==============================] - 0s 56ms/step - loss: 0.0383\n",
      "Epoch 91/200\n",
      "2/2 [==============================] - 0s 56ms/step - loss: 0.0385\n",
      "Epoch 92/200\n",
      "2/2 [==============================] - 0s 59ms/step - loss: 0.0341\n",
      "Epoch 93/200\n",
      "2/2 [==============================] - 0s 59ms/step - loss: 0.0301\n",
      "Epoch 94/200\n",
      "2/2 [==============================] - 0s 56ms/step - loss: 0.0320\n",
      "Epoch 95/200\n",
      "2/2 [==============================] - 0s 58ms/step - loss: 0.0374\n",
      "Epoch 96/200\n",
      "2/2 [==============================] - 0s 58ms/step - loss: 0.0379\n",
      "Epoch 97/200\n",
      "2/2 [==============================] - 0s 56ms/step - loss: 0.0346\n",
      "Epoch 98/200\n",
      "2/2 [==============================] - 0s 59ms/step - loss: 0.0336\n",
      "Epoch 99/200\n",
      "2/2 [==============================] - 0s 59ms/step - loss: 0.0341\n",
      "Epoch 100/200\n",
      "2/2 [==============================] - 0s 60ms/step - loss: 0.0312\n",
      "Epoch 101/200\n",
      "2/2 [==============================] - 0s 57ms/step - loss: 0.0308\n",
      "Epoch 102/200\n",
      "2/2 [==============================] - 0s 58ms/step - loss: 0.0293\n",
      "Epoch 103/200\n",
      "2/2 [==============================] - 0s 60ms/step - loss: 0.0302\n",
      "Epoch 104/200\n",
      "2/2 [==============================] - 0s 58ms/step - loss: 0.0329\n",
      "Epoch 105/200\n",
      "2/2 [==============================] - 0s 58ms/step - loss: 0.0348\n",
      "Epoch 106/200\n",
      "2/2 [==============================] - 0s 57ms/step - loss: 0.0400\n",
      "Epoch 107/200\n",
      "2/2 [==============================] - 0s 56ms/step - loss: 0.0336\n",
      "Epoch 108/200\n",
      "2/2 [==============================] - 0s 59ms/step - loss: 0.0358\n",
      "Epoch 109/200\n",
      "2/2 [==============================] - 0s 58ms/step - loss: 0.0413\n",
      "Epoch 110/200\n",
      "2/2 [==============================] - 0s 57ms/step - loss: 0.0370\n",
      "Epoch 111/200\n",
      "2/2 [==============================] - 0s 58ms/step - loss: 0.0411\n",
      "Epoch 112/200\n",
      "2/2 [==============================] - 0s 61ms/step - loss: 0.0323\n",
      "Epoch 113/200\n",
      "2/2 [==============================] - 0s 58ms/step - loss: 0.0320\n",
      "Epoch 114/200\n",
      "2/2 [==============================] - 0s 55ms/step - loss: 0.0319\n",
      "Epoch 115/200\n",
      "2/2 [==============================] - 0s 61ms/step - loss: 0.0416\n",
      "Epoch 116/200\n",
      "2/2 [==============================] - 0s 56ms/step - loss: 0.0350\n",
      "Epoch 117/200\n",
      "2/2 [==============================] - 0s 57ms/step - loss: 0.0391\n",
      "Epoch 118/200\n",
      "2/2 [==============================] - 0s 54ms/step - loss: 0.0329\n",
      "Epoch 119/200\n",
      "2/2 [==============================] - 0s 58ms/step - loss: 0.0321\n",
      "Epoch 120/200\n",
      "2/2 [==============================] - 0s 60ms/step - loss: 0.0347\n",
      "Epoch 121/200\n",
      "2/2 [==============================] - 0s 57ms/step - loss: 0.0394\n",
      "Epoch 122/200\n",
      "2/2 [==============================] - 0s 58ms/step - loss: 0.0395\n",
      "Epoch 123/200\n",
      "2/2 [==============================] - 0s 58ms/step - loss: 0.0400\n",
      "Epoch 124/200\n",
      "2/2 [==============================] - 0s 57ms/step - loss: 0.0322\n",
      "Epoch 125/200\n",
      "2/2 [==============================] - 0s 55ms/step - loss: 0.0302\n",
      "Epoch 126/200\n",
      "2/2 [==============================] - 0s 56ms/step - loss: 0.0374\n",
      "Epoch 127/200\n",
      "2/2 [==============================] - 0s 57ms/step - loss: 0.0295\n",
      "Epoch 128/200\n",
      "2/2 [==============================] - 0s 57ms/step - loss: 0.0374\n",
      "Epoch 129/200\n",
      "2/2 [==============================] - 0s 58ms/step - loss: 0.0292\n",
      "Epoch 130/200\n",
      "2/2 [==============================] - 0s 57ms/step - loss: 0.0314\n",
      "Epoch 131/200\n",
      "2/2 [==============================] - 0s 57ms/step - loss: 0.0340\n",
      "Epoch 132/200\n",
      "2/2 [==============================] - 0s 57ms/step - loss: 0.0309\n",
      "Epoch 133/200\n",
      "2/2 [==============================] - 0s 57ms/step - loss: 0.0284\n",
      "Epoch 134/200\n",
      "2/2 [==============================] - 0s 58ms/step - loss: 0.0316\n",
      "Epoch 135/200\n",
      "2/2 [==============================] - 0s 57ms/step - loss: 0.0279\n",
      "Epoch 136/200\n",
      "2/2 [==============================] - 0s 61ms/step - loss: 0.0311\n",
      "Epoch 137/200\n",
      "2/2 [==============================] - 0s 56ms/step - loss: 0.0301\n",
      "Epoch 138/200\n",
      "2/2 [==============================] - 0s 57ms/step - loss: 0.0332\n",
      "Epoch 139/200\n",
      "2/2 [==============================] - 0s 56ms/step - loss: 0.0348\n",
      "Epoch 140/200\n",
      "2/2 [==============================] - 0s 58ms/step - loss: 0.0263\n",
      "Epoch 141/200\n",
      "2/2 [==============================] - 0s 57ms/step - loss: 0.0298\n",
      "Epoch 142/200\n",
      "2/2 [==============================] - 0s 56ms/step - loss: 0.0342\n",
      "Epoch 143/200\n",
      "2/2 [==============================] - 0s 58ms/step - loss: 0.0295\n",
      "Epoch 144/200\n",
      "2/2 [==============================] - 0s 57ms/step - loss: 0.0348\n",
      "Epoch 145/200\n",
      "2/2 [==============================] - 0s 70ms/step - loss: 0.0281\n",
      "Epoch 146/200\n",
      "2/2 [==============================] - 0s 59ms/step - loss: 0.0301\n",
      "Epoch 147/200\n",
      "2/2 [==============================] - 0s 56ms/step - loss: 0.0305\n",
      "Epoch 148/200\n",
      "2/2 [==============================] - 0s 59ms/step - loss: 0.0329\n",
      "Epoch 149/200\n",
      "2/2 [==============================] - 0s 55ms/step - loss: 0.0263\n",
      "Epoch 150/200\n",
      "2/2 [==============================] - 0s 54ms/step - loss: 0.0292\n",
      "Epoch 151/200\n",
      "2/2 [==============================] - 0s 58ms/step - loss: 0.0254\n",
      "Epoch 152/200\n",
      "2/2 [==============================] - 0s 61ms/step - loss: 0.0314\n",
      "Epoch 153/200\n",
      "2/2 [==============================] - 0s 57ms/step - loss: 0.0318\n",
      "Epoch 154/200\n",
      "2/2 [==============================] - 0s 59ms/step - loss: 0.0274\n",
      "Epoch 155/200\n",
      "2/2 [==============================] - 0s 57ms/step - loss: 0.0313\n",
      "Epoch 156/200\n",
      "2/2 [==============================] - 0s 54ms/step - loss: 0.0288\n",
      "Epoch 157/200\n",
      "2/2 [==============================] - 0s 60ms/step - loss: 0.0260\n",
      "Epoch 158/200\n",
      "2/2 [==============================] - 0s 57ms/step - loss: 0.0265\n",
      "Epoch 159/200\n",
      "2/2 [==============================] - 0s 57ms/step - loss: 0.0297\n",
      "Epoch 160/200\n",
      "2/2 [==============================] - 0s 57ms/step - loss: 0.0241\n",
      "Epoch 161/200\n",
      "2/2 [==============================] - 0s 54ms/step - loss: 0.0224\n",
      "Epoch 162/200\n",
      "2/2 [==============================] - 0s 58ms/step - loss: 0.0307\n",
      "Epoch 163/200\n",
      "2/2 [==============================] - 0s 57ms/step - loss: 0.0254\n",
      "Epoch 164/200\n",
      "2/2 [==============================] - 0s 57ms/step - loss: 0.0291\n",
      "Epoch 165/200\n",
      "2/2 [==============================] - 0s 54ms/step - loss: 0.0264\n",
      "Epoch 166/200\n",
      "2/2 [==============================] - 0s 54ms/step - loss: 0.0267\n",
      "Epoch 167/200\n",
      "2/2 [==============================] - 0s 56ms/step - loss: 0.0239\n",
      "Epoch 168/200\n",
      "2/2 [==============================] - 0s 59ms/step - loss: 0.0271\n",
      "Epoch 169/200\n",
      "2/2 [==============================] - 0s 54ms/step - loss: 0.0302\n",
      "Epoch 170/200\n",
      "2/2 [==============================] - 0s 58ms/step - loss: 0.0231\n",
      "Epoch 171/200\n",
      "2/2 [==============================] - 0s 56ms/step - loss: 0.0329\n",
      "Epoch 172/200\n",
      "2/2 [==============================] - 0s 56ms/step - loss: 0.0265\n",
      "Epoch 173/200\n",
      "2/2 [==============================] - 0s 57ms/step - loss: 0.0277\n",
      "Epoch 174/200\n",
      "2/2 [==============================] - 0s 60ms/step - loss: 0.0234\n",
      "Epoch 175/200\n",
      "2/2 [==============================] - 0s 56ms/step - loss: 0.0246\n",
      "Epoch 176/200\n",
      "2/2 [==============================] - 0s 58ms/step - loss: 0.0299\n",
      "Epoch 177/200\n",
      "2/2 [==============================] - 0s 57ms/step - loss: 0.0320\n",
      "Epoch 178/200\n",
      "2/2 [==============================] - 0s 67ms/step - loss: 0.0300\n",
      "Epoch 179/200\n",
      "2/2 [==============================] - 0s 66ms/step - loss: 0.0324\n",
      "Epoch 180/200\n",
      "2/2 [==============================] - 0s 66ms/step - loss: 0.0270\n",
      "Epoch 181/200\n",
      "2/2 [==============================] - 0s 67ms/step - loss: 0.0270\n",
      "Epoch 182/200\n",
      "2/2 [==============================] - 0s 67ms/step - loss: 0.0245\n",
      "Epoch 183/200\n",
      "2/2 [==============================] - 0s 64ms/step - loss: 0.0217\n",
      "Epoch 184/200\n",
      "2/2 [==============================] - 0s 62ms/step - loss: 0.0286\n",
      "Epoch 185/200\n",
      "2/2 [==============================] - 0s 65ms/step - loss: 0.0268\n",
      "Epoch 186/200\n",
      "2/2 [==============================] - 0s 64ms/step - loss: 0.0260\n",
      "Epoch 187/200\n",
      "2/2 [==============================] - 0s 66ms/step - loss: 0.0292\n",
      "Epoch 188/200\n",
      "2/2 [==============================] - 0s 72ms/step - loss: 0.0234\n",
      "Epoch 189/200\n",
      "2/2 [==============================] - 0s 77ms/step - loss: 0.0243\n",
      "Epoch 190/200\n",
      "2/2 [==============================] - 0s 59ms/step - loss: 0.0272\n",
      "Epoch 191/200\n",
      "2/2 [==============================] - 0s 56ms/step - loss: 0.0237\n",
      "Epoch 192/200\n",
      "2/2 [==============================] - 0s 60ms/step - loss: 0.0247\n",
      "Epoch 193/200\n",
      "2/2 [==============================] - 0s 55ms/step - loss: 0.0365\n",
      "Epoch 194/200\n",
      "2/2 [==============================] - 0s 58ms/step - loss: 0.0197\n",
      "Epoch 195/200\n",
      "2/2 [==============================] - 0s 55ms/step - loss: 0.0252\n",
      "Epoch 196/200\n",
      "2/2 [==============================] - 0s 53ms/step - loss: 0.0304\n",
      "Epoch 197/200\n",
      "2/2 [==============================] - 0s 54ms/step - loss: 0.0199\n",
      "Epoch 198/200\n",
      "2/2 [==============================] - 0s 54ms/step - loss: 0.0283\n",
      "Epoch 199/200\n",
      "2/2 [==============================] - 0s 57ms/step - loss: 0.0240\n",
      "Epoch 200/200\n",
      "2/2 [==============================] - 0s 55ms/step - loss: 0.0304\n"
     ]
    },
    {
     "data": {
      "text/plain": [
       "<tensorflow.python.keras.callbacks.History at 0x7f647405d750>"
      ]
     },
     "execution_count": 17,
     "metadata": {},
     "output_type": "execute_result"
    }
   ],
   "source": [
    "regress.fit(X_train,y_train,epochs=200,batch_size=25)"
   ]
  },
  {
   "cell_type": "code",
   "execution_count": 18,
   "id": "aa54e988",
   "metadata": {
    "execution": {
     "iopub.execute_input": "2021-07-22T04:49:09.417806Z",
     "iopub.status.busy": "2021-07-22T04:49:09.417127Z",
     "iopub.status.idle": "2021-07-22T04:49:09.419668Z",
     "shell.execute_reply": "2021-07-22T04:49:09.420294Z",
     "shell.execute_reply.started": "2021-07-21T14:58:30.906209Z"
    },
    "papermill": {
     "duration": 0.974012,
     "end_time": "2021-07-22T04:49:09.420479",
     "exception": false,
     "start_time": "2021-07-22T04:49:08.446467",
     "status": "completed"
    },
    "tags": []
   },
   "outputs": [
    {
     "name": "stdout",
     "output_type": "stream",
     "text": [
      "119\n"
     ]
    }
   ],
   "source": [
    "print(len(data_test))\n",
    "data_total=pd.concat((data_train['capacity'], data_test['capacity']),axis=0)\n",
    "inputs=data_total[len(data_total)-len(data_test)-10:].values\n",
    "inputs=inputs.reshape(-1,1)\n",
    "inputs=sc.transform(inputs)"
   ]
  },
  {
   "cell_type": "code",
   "execution_count": 19,
   "id": "9fd9e588",
   "metadata": {
    "execution": {
     "iopub.execute_input": "2021-07-22T04:49:11.319283Z",
     "iopub.status.busy": "2021-07-22T04:49:11.318526Z",
     "iopub.status.idle": "2021-07-22T04:49:12.833648Z",
     "shell.execute_reply": "2021-07-22T04:49:12.833020Z",
     "shell.execute_reply.started": "2021-07-21T14:58:30.917153Z"
    },
    "papermill": {
     "duration": 2.488307,
     "end_time": "2021-07-22T04:49:12.833801",
     "exception": false,
     "start_time": "2021-07-22T04:49:10.345494",
     "status": "completed"
    },
    "tags": []
   },
   "outputs": [
    {
     "name": "stdout",
     "output_type": "stream",
     "text": [
      "(119, 1)\n",
      "Test RMSE: 0.100\n"
     ]
    },
    {
     "data": {
      "text/plain": [
       "0.45062570004829494"
      ]
     },
     "execution_count": 19,
     "metadata": {},
     "output_type": "execute_result"
    }
   ],
   "source": [
    "X_test=[]\n",
    "for i in range(10,129):\n",
    "    X_test.append(inputs[i-10:i,0])\n",
    "X_test=np.array(X_test)\n",
    "X_test=np.reshape(X_test,(X_test.shape[0],X_test.shape[1],1))\n",
    "pred=regress.predict(X_test)\n",
    "print(pred.shape)\n",
    "pred=sc.inverse_transform(pred)\n",
    "pred=pred[:,0]\n",
    "tests=data_test.iloc[:,1:2]\n",
    "rmse = np.sqrt(mean_squared_error(tests, pred))\n",
    "print('Test RMSE: %.3f' % rmse)\n",
    "metrics.r2_score(tests,pred)"
   ]
  },
  {
   "cell_type": "markdown",
   "id": "d48d6d20",
   "metadata": {
    "papermill": {
     "duration": 0.912008,
     "end_time": "2021-07-22T04:49:14.657428",
     "exception": false,
     "start_time": "2021-07-22T04:49:13.745420",
     "status": "completed"
    },
    "tags": []
   },
   "source": [
    "As can be seen, the mean RMSE is 0.05 (5%), which is very close to the values observed in the literature using this type of network."
   ]
  },
  {
   "cell_type": "code",
   "execution_count": 20,
   "id": "4de57b00",
   "metadata": {
    "execution": {
     "iopub.execute_input": "2021-07-22T04:49:16.497961Z",
     "iopub.status.busy": "2021-07-22T04:49:16.497149Z",
     "iopub.status.idle": "2021-07-22T04:49:16.877130Z",
     "shell.execute_reply": "2021-07-22T04:49:16.876386Z",
     "shell.execute_reply.started": "2021-07-21T14:58:32.382252Z"
    },
    "papermill": {
     "duration": 1.30042,
     "end_time": "2021-07-22T04:49:16.877281",
     "exception": false,
     "start_time": "2021-07-22T04:49:15.576861",
     "status": "completed"
    },
    "tags": []
   },
   "outputs": [
    {
     "name": "stderr",
     "output_type": "stream",
     "text": [
      "/opt/conda/lib/python3.7/site-packages/ipykernel_launcher.py:2: SettingWithCopyWarning: \n",
      "A value is trying to be set on a copy of a slice from a DataFrame.\n",
      "Try using .loc[row_indexer,col_indexer] = value instead\n",
      "\n",
      "See the caveats in the documentation: https://pandas.pydata.org/pandas-docs/stable/user_guide/indexing.html#returning-a-view-versus-a-copy\n",
      "  \n"
     ]
    },
    {
     "data": {
      "text/plain": [
       "Text(0.5, 1.0, 'Discharge B0005 (prediction) start in cycle 50 -RULe=-8, window-size=10')"
      ]
     },
     "execution_count": 20,
     "metadata": {},
     "output_type": "execute_result"
    },
    {
     "data": {
      "image/png": "[encoded data removed]",
      "text/plain": [
       "<Figure size 1152x720 with 1 Axes>"
      ]
     },
     "metadata": {},
     "output_type": "display_data"
    }
   ],
   "source": [
    "ln = len(data_train)\n",
    "data_test['pre']=pred\n",
    "plot_df = dataset.loc[(dataset['cycle']>=1),['cycle','capacity']]\n",
    "plot_per = data_test.loc[(data_test['cycle']>=ln),['cycle','pre']]\n",
    "plt.figure(figsize=(16, 10))\n",
    "plt.plot(plot_df['cycle'], plot_df['capacity'], label=\"Actual data\", color='blue')\n",
    "plt.plot(plot_per['cycle'],plot_per['pre'],label=\"Prediction data\", color='red')\n",
    "#Draw threshold\n",
    "plt.plot([0.,168], [1.38, 1.38],dashes=[6, 2], label=\"treshold\")\n",
    "plt.ylabel('Capacity')\n",
    "# make x-axis ticks legible\n",
    "adf = plt.gca().get_xaxis().get_major_formatter()\n",
    "plt.xlabel('cycle')\n",
    "plt.legend()\n",
    "plt.title('Discharge B0005 (prediction) start in cycle 50 -RULe=-8, window-size=10')"
   ]
  },
  {
   "cell_type": "markdown",
   "id": "2753e695",
   "metadata": {
    "papermill": {
     "duration": 0.917,
     "end_time": "2021-07-22T04:49:18.732289",
     "exception": false,
     "start_time": "2021-07-22T04:49:17.815289",
     "status": "completed"
    },
    "tags": []
   },
   "source": [
    "Finally, it can be seen in the graph that the capacity value and how it behaves over time is very close to the real value and supporting these data, the error in the estimation of the RUL was -8 which makes us understand that The model went ahead by 8 cycles to estimate that the battery reached its end of life."
   ]
  },
  {
   "cell_type": "code",
   "execution_count": 21,
   "id": "b70bde80",
   "metadata": {
    "execution": {
     "iopub.execute_input": "2021-07-22T04:49:20.629070Z",
     "iopub.status.busy": "2021-07-22T04:49:20.628162Z",
     "iopub.status.idle": "2021-07-22T04:49:20.631010Z",
     "shell.execute_reply": "2021-07-22T04:49:20.631515Z",
     "shell.execute_reply.started": "2021-07-21T14:58:32.719138Z"
    },
    "papermill": {
     "duration": 0.935392,
     "end_time": "2021-07-22T04:49:20.631706",
     "exception": false,
     "start_time": "2021-07-22T04:49:19.696314",
     "status": "completed"
    },
    "tags": []
   },
   "outputs": [
    {
     "name": "stdout",
     "output_type": "stream",
     "text": [
      "The Actual fail at cycle number: 128\n",
      "The prediction fail at cycle number: 49\n",
      "The error of RUL= -79 Cycle(s)\n"
     ]
    }
   ],
   "source": [
    "pred=0\n",
    "Afil=0\n",
    "Pfil=0\n",
    "a=data_test['capacity'].values\n",
    "b=data_test['pre'].values\n",
    "j=0\n",
    "k=0\n",
    "for i in range(len(a)):\n",
    "    actual=a[i]\n",
    "    \n",
    "    if actual<=1.38:\n",
    "        j=i\n",
    "        Afil=j\n",
    "        break\n",
    "for i in range(len(a)):\n",
    "    pred=b[i]\n",
    "    if pred< 1.38:\n",
    "        k=i\n",
    "        Pfil=k\n",
    "        break\n",
    "print(\"The Actual fail at cycle number: \"+ str(Afil+ln))\n",
    "print(\"The prediction fail at cycle number: \"+ str(Pfil+ln))\n",
    "RULerror=Pfil-Afil\n",
    "print(\"The error of RUL= \"+ str(RULerror)+ \" Cycle(s)\")"
   ]
  }
 ],
 "metadata": {
  "kernelspec": {
   "display_name": "base",
   "language": "python",
   "name": "python3"
  },
  "language_info": {
   "codemirror_mode": {
    "name": "ipython",
    "version": 3
   },
   "file_extension": ".py",
   "mimetype": "text/x-python",
   "name": "python",
   "nbconvert_exporter": "python",
   "pygments_lexer": "ipython3",
   "version": "3.11.5"
  },
  "papermill": {
   "default_parameters": {},
   "duration": 274.33584,
   "end_time": "2021-07-22T04:49:24.036616",
   "environment_variables": {},
   "exception": null,
   "input_path": "__notebook__.ipynb",
   "output_path": "__notebook__.ipynb",
   "parameters": {},
   "start_time": "2021-07-22T04:44:49.700776",
   "version": "2.3.3"
  }
 },
 "nbformat": 4,
 "nbformat_minor": 5
}
