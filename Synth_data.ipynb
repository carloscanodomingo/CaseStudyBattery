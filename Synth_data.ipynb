{
 "cells": [
  {
   "cell_type": "code",
   "execution_count": null,
   "metadata": {},
   "outputs": [],
   "source": [
    "import tables\n",
    "import pandas as pd\n",
    "import numpy as np\n",
    "def read_data_tables(data_path, cycle):\n",
    "        try:\n",
    "            with tables.open_file(data_path, mode='r') as file:\n",
    "                data_node = file.get_node(f\"/Cycle{cycle:04d}/block0_values\")\n",
    "                data_array = data_node[:]  # Exclude the first column\n",
    "                columns_node = file.get_node(f\"/Cycle{cycle:04d}/block0_items\")\n",
    "                columns = columns_node[:].astype(str) # Exclude the first column name\n",
    "                return pd.DataFrame(data_array, columns=columns)\n",
    "        except Exception as e:\n",
    "            print(e)\n",
    "            return None\n",
    "def read_capacity_tables(data_path, cycle):\n",
    "        try:\n",
    "            with tables.open_file(data_path, mode='r') as file:\n",
    "                data_node = file.get_node(f\"/capacity{cycle:04d}/block0_values\")\n",
    "                data_array = data_node[:]  # Exclude the first column\n",
    "                columns_node = file.get_node(f\"/capacity{cycle:04d}/block0_items\")\n",
    "                columns = columns_node[:].astype(str) # Exclude the first column name\n",
    "                return pd.DataFrame(data_array, columns=columns)\n",
    "        except Exception as e:\n",
    "            print(e)\n",
    "            return None\n",
    "    # Function to read SoH using PyTables\n",
    "def read_soh_tables(data_path):\n",
    "        try:\n",
    "            with tables.open_file(data_path, mode='r') as file:\n",
    "                soh_node = file.get_node(\"/Info/block0_values\")\n",
    "                soh_array = soh_node[:]  # Exclude the first column\n",
    "                columns_node = file.get_node(\"/Info/block0_items\")\n",
    "                columns = columns_node[:].astype(str) # Exclude the first column name\n",
    "                soh_data = soh_array[:, columns == 'real_capacity'].flatten()\n",
    "                soh_data = soh_data / soh_data[0]\n",
    "                return pd.Series(soh_data)\n",
    "        except Exception as e:\n",
    "            return None\n",
    "\n",
    "cycle = 0\n",
    "file_path = \"Synthetic_data/episode_963738d2-574a-4461-9c00-598a47b8557a.result\"\n",
    "data = read_data_tables(file_path, cycle)\n",
    "soh_data = read_soh_tables(file_path)\n",
    "\n",
    "if data is None or soh_data is None or len(data) == 0:\n",
    "    raise IndexError(\n",
    "        f\"No valid data found for file {file_path}, cycle {cycle}\"\n",
    "    )\n",
    "\n",
    "cycle_data = data[data[\"Step\"] == data[\"Step\"].max()][\n",
    "    [\"V\", \"C\", \"SoC\", \"VoC\", \"relative_time\"]\n",
    "]\n",
    "if cycle_data.empty:\n",
    "    raise IndexError(\n",
    "        f\"Cycle data is empty for file {file_path}, cycle {cycle}\"\n",
    "    )\n",
    "time_vector = cycle_data[\"relative_time\"].values\n",
    "\n",
    "\n",
    "# Measure the end time for resampling\n",
    "\n",
    "# Extract resampled values\n",
    "V = np.array(cycle_data[\"V\"], dtype=np.float32)\n",
    "C = np.array(cycle_data[\"C\"], dtype=np.float32)\n",
    "SoC = np.array(cycle_data[\"SoC\"], dtype=np.float32)\n",
    "VoC = np.array(cycle_data[\"VoC\"], dtype=np.float32)\n",
    "# Compute time difference (dt) efficiently\n",
    "dt = np.diff(\n",
    "    cycle_data[\"relative_time\"],\n",
    "    prepend=cycle_data[\"relative_time\"].iloc[0],\n",
    ")\n"
   ]
  },
  {
   "cell_type": "code",
   "execution_count": 23,
   "metadata": {},
   "outputs": [
    {
     "data": {
      "text/plain": [
       "0    1.0\n",
       "dtype: float64"
      ]
     },
     "execution_count": 23,
     "metadata": {},
     "output_type": "execute_result"
    }
   ],
   "source": [
    "soh_data"
   ]
  },
  {
   "cell_type": "code",
   "execution_count": null,
   "metadata": {},
   "outputs": [],
   "source": []
  }
 ],
 "metadata": {
  "kernelspec": {
   "display_name": "base",
   "language": "python",
   "name": "python3"
  },
  "language_info": {
   "codemirror_mode": {
    "name": "ipython",
    "version": 3
   },
   "file_extension": ".py",
   "mimetype": "text/x-python",
   "name": "python",
   "nbconvert_exporter": "python",
   "pygments_lexer": "ipython3",
   "version": "3.11.5"
  }
 },
 "nbformat": 4,
 "nbformat_minor": 2
}
