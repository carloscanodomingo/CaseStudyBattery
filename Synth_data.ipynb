{
 "cells": [
  {
   "cell_type": "code",
   "execution_count": null,
   "metadata": {},
   "outputs": [],
   "source": [
    "import tables\n",
    "import pandas as pd\n",
    "import numpy as np\n",
    "def read_data_tables(data_path, cycle):\n",
    "        try:\n",
    "            with tables.open_file(data_path, mode='r') as file:\n",
    "                data_node = file.get_node(f\"/Cycle{cycle:04d}/block0_values\")\n",
    "                data_array = data_node[:]  # Exclude the first column\n",
    "                columns_node = file.get_node(f\"/Cycle{cycle:04d}/block0_items\")\n",
    "                columns = columns_node[:].astype(str) # Exclude the first column name\n",
    "                return pd.DataFrame(data_array, columns=columns)\n",
    "        except Exception as e:\n",
    "            print(e)\n",
    "            return None\n",
    "def read_capacity_tables(data_path, cycle):\n",
    "        try:\n",
    "            with tables.open_file(data_path, mode='r') as file:\n",
    "                data_node = file.get_node(f\"/capacity{cycle:04d}/block0_values\")\n",
    "                data_array = data_node[:]  # Exclude the first column\n",
    "                columns_node = file.get_node(f\"/capacity{cycle:04d}/block0_items\")\n",
    "                columns = columns_node[:].astype(str) # Exclude the first column name\n",
    "                return pd.DataFrame(data_array, columns=columns)\n",
    "        except Exception as e:\n",
    "            print(e)\n",
    "            return None\n",
    "    # Function to read SoH using PyTables\n",
    "def read_soh_tables(data_path):\n",
    "        try:\n",
    "            with tables.open_file(data_path, mode='r') as file:\n",
    "                soh_node = file.get_node(\"/Info/block0_values\")\n",
    "                soh_array = soh_node[:]  # Exclude the first column\n",
    "                columns_node = file.get_node(\"/Info/block0_items\")\n",
    "                columns = columns_node[:].astype(str) # Exclude the first column name\n",
    "                soh_data = soh_array[:, columns == 'real_capacity'].flatten()\n",
    "                soh_data = soh_data / soh_data[0]\n",
    "                return pd.Series(soh_data)\n",
    "        except Exception as e:\n",
    "            return None\n",
    "\n",
    "cycle = 0\n",
    "file_path = \"Synthetic_data/episode_ffa646b4-319f-4e87-bfdd-24270224424d.result\"\n",
    "\n",
    "def get_cycle_data(file_path, cycle):\n",
    "    data = read_data_tables(file_path, cycle)\n",
    "    capacity_test = read_capacity_tables(file_path, cycle)\n",
    "    capacity_test = capacity_test.drop(\"SoC\", axis = 1)\n",
    "    soh_data = read_soh_tables(file_path)\n",
    "    \n",
    "    if data is None or soh_data is None or len(data) == 0:\n",
    "        raise IndexError(\n",
    "            f\"No valid data found for file {file_path}, cycle {cycle}\"\n",
    "        )\n",
    "    \n",
    "    \n",
    "    if data.empty:\n",
    "        raise IndexError(\n",
    "            f\"Cycle data is empty for file {file_path}, cycle {cycle}\"\n",
    "        )\n",
    "    \n",
    "    soh_value = soh_data[cycle] if cycle < len(soh_data) else None\n",
    "    \n",
    "    return data, capacity_test, soh_value\n",
    "\n",
    "cycle_data, capacity_test, soh_value = get_cycle_data(file_path, cycle)\n"
   ]
  },
  {
   "cell_type": "code",
   "execution_count": null,
   "metadata": {},
   "outputs": [],
   "source": [
    "# Display the structure and summary of cycle_data, capacity_test, and soh_value\n",
    "print(\"Cycle Data:\")\n",
    "print(cycle_data.info())\n",
    "print(cycle_data.head())\n",
    "\n",
    "print(\"\\nCapacity Test Data:\")\n",
    "print(capacity_test.info())\n",
    "print(capacity_test.head())\n",
    "\n",
    "print(\"\\nState of Health (SoH) Value:\")\n",
    "print(soh_value)"
   ]
  },
  {
   "cell_type": "code",
   "execution_count": null,
   "metadata": {},
   "outputs": [],
   "source": [
    "import plotly.express as px\n",
    "\n",
    "fig = px.line(cycle_data, x='relative_time', y='V', title='Voltage vs Time', labels={'relative_time': 'Time', 'V': 'Voltage'})\n",
    "fig.show()"
   ]
  },
  {
   "cell_type": "code",
   "execution_count": null,
   "metadata": {},
   "outputs": [],
   "source": [
    "fig = px.line(cycle_data, x='relative_time', y='C', title='Voltage vs Time', labels={'relative_time': 'Time', 'V': 'Voltage'})\n",
    "fig.show()"
   ]
  },
  {
   "cell_type": "code",
   "execution_count": null,
   "metadata": {},
   "outputs": [],
   "source": [
    "fig = px.line(cycle_data, x='relative_time', y='SoC', title='Voltage vs Time', labels={'relative_time': 'Time', 'V': 'Voltage'})\n",
    "fig.show()"
   ]
  },
  {
   "cell_type": "code",
   "execution_count": null,
   "metadata": {},
   "outputs": [],
   "source": [
    "import plotly.express as px\n",
    "\n",
    "fig = px.line(capacity_test, x='relative_time', y='V', title='Voltage vs Time', labels={'relative_time': 'Time', 'V': 'Voltage'})\n",
    "fig.show()"
   ]
  },
  {
   "cell_type": "code",
   "execution_count": null,
   "metadata": {},
   "outputs": [],
   "source": [
    "import plotly.graph_objects as go\n",
    "\n",
    "fig = go.Figure()\n",
    "\n",
    "# Add Voltage trace\n",
    "fig.add_trace(\n",
    "    go.Scatter(x=cycle_data['relative_time'], y=cycle_data['V'], name='Voltage', yaxis='y1')\n",
    ")\n",
    "\n",
    "# Add Current trace\n",
    "fig.add_trace(\n",
    "    go.Scatter(x=cycle_data['relative_time'], y=cycle_data['C'], name='Current', yaxis='y2')\n",
    ")\n",
    "\n",
    "# Create axis objects\n",
    "fig.update_layout(\n",
    "    title='Voltage and Current vs Time',\n",
    "    xaxis=dict(title='Time'),\n",
    "    yaxis=dict(title='Voltage', side='left'),\n",
    "    yaxis2=dict(title='Current', overlaying='y', side='right')\n",
    ")\n",
    "\n",
    "fig.show()"
   ]
  },
  {
   "cell_type": "code",
   "execution_count": null,
   "metadata": {},
   "outputs": [],
   "source": []
  }
 ],
 "metadata": {
  "kernelspec": {
   "display_name": "base",
   "language": "python",
   "name": "python3"
  },
  "language_info": {
   "codemirror_mode": {
    "name": "ipython",
    "version": 3
   },
   "file_extension": ".py",
   "mimetype": "text/x-python",
   "name": "python",
   "nbconvert_exporter": "python",
   "pygments_lexer": "ipython3",
   "version": "3.11.5"
  }
 },
 "nbformat": 4,
 "nbformat_minor": 2
}
