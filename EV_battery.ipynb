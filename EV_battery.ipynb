{
 "cells": [
  {
   "cell_type": "code",
   "execution_count": null,
   "metadata": {
    "vscode": {
     "languageId": "plaintext"
    }
   },
   "outputs": [],
   "source": [
    "import glob\n",
    "import numpy as np\n",
    "import pandas as pd\n",
    "reduce_by = 1\n",
    "version = \"W04\"\n",
    "base_data_path=\"/home/ccanodom/data/EV_battery/\" + version + \"/\" + version + \"_\" \n",
    "values = [\"C01\",\"C03\",\"C07\"]\n",
    "def reduce_by(reduce_by):\n",
    "    # Assuming df is your DataFrame\n",
    "    # Step 1: Create a group identifier for each set of 20 rows\n",
    "    group_identifier = np.arange(len(df)) // reduce_by\n",
    "\n",
    "    # Step 2 & 3: Group by this identifier and calculate the mean for each group\n",
    "    df_mean = df.groupby(group_identifier).mean()\n",
    "\n",
    "    # If your DataFrame has a MultiIndex and you want to keep the non-numeric levels,\n",
    "    # you may need to reset the index first, or handle them separately depending on your specific case.\n",
    "\n",
    "    df_mean.reset_index(drop=True, inplace=True)\n",
    "    df_mean[\"Step\"] = (np.abs(df_mean[\"Step\"]))\n",
    "    return df_mean\n",
    "\n",
    "\n",
    "list_df = []\n",
    "for path in values:\n",
    "    data_path = base_data_path + path + \".mat\"\n",
    "    print(f\"Start with data in path {data_path}\")\n",
    "    df = EV_Data.get_data_EV(data_path)\n",
    "    df_mean = reduce_by(30)\n",
    "    \n",
    "    list_df.append(df_mean)\n",
    "df = pd.concat(list_df)\n",
    "df = EV_Data.include_cycle_number(df)\n",
    "df = EV_Data.map_index(df)"
   ]
  }
 ],
 "metadata": {
  "language_info": {
   "name": "python"
  }
 },
 "nbformat": 4,
 "nbformat_minor": 2
}
