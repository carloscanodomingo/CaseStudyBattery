{
 "cells": [
  {
   "cell_type": "markdown",
   "metadata": {},
   "source": [
    "\n",
    "-----------------------------------------------------------------------------------------------------------\n",
    "Authors: Gabriele Pozzato, Anirudh Allam, Simona Onori\n",
    "Affiliation: Stanford University, Department of Energy Resources Engineering\n",
    "  \n",
    "Property of Stanford Energy Control Lab (SECL) - https://onorilab.stanford.edu/ \n",
    "-----------------------------------------------------------------------------------------------------------\n",
    "\n",
    "- General comments:\n",
    "    - Data are provided in .xlsx (raw) and .mat (processed) form.\n",
    "    - .mat files are reduced in size and useful for cycling tests.\n",
    "    - The authors have focused on current and voltage profiles.\n",
    "    - Additional signals (e.g., temperature) are available in raw data.\n",
    "    - Sheets 'Dataset_structure' and 'Signals_description' describe the dataset.\n",
    "    - Sheet 'Cycling_protocol' provides details on the cycling protocol.\n",
    "\n",
    "- Cell properties:\n",
    "    - Model/chemistry: LG Chem INR21700-M50T, NMC \n",
    "    - Weight: 0.06925kg\n",
    "    - Size: 21.44mm x 70.80mm \n",
    "    - Nominal capacity: 4.85Ah\n",
    "    - Nominal voltage: 3.63V\n",
    "    - Charge cutoff voltage: 4.2V\n",
    "    - Discharge cutoff voltage: 2.5V\n",
    "    - Cutoff current: 50mA\n",
    "\n",
    "- Diagnostic tests:\n",
    "    - HPPC, EIS (@20, 50, 80% SOC), and capacity test (@C/20) data.\n",
    "    - Diag_#: contains experimental data for diagnostic test #.\n",
    "    - _processed_mat: contains .mat files for all diagnostic tests.\n",
    "\n",
    "- Cycling tests:\n",
    "    - Cycling_#: contains experimental data for cycling test #.\n",
    "    - _processed_mat: contains processed .mat files.\n",
    "\n",
    "- Notes:\n",
    "    - Positive current --> charge, negative current --> discharge.\n",
    "    - EIS diagnostic tests for W4, W5, W7, and G1 are missing.\n",
    "    - Only 'Channel*' sheets should be considered for capacity tests, HPPC, and cycling tests.\n",
    "    - Arbin scheduling issues affected UDDS cycling.\n",
    "    - Increased output voltage profile observed for some cells due to equipment issues.\n",
    "    - Some cells have cycling data split into more than one folder.\n",
    "\n",
    "In the context of the current Jupyter Notebook, we are working with the .mat file `EV_data/W4.mat` which contains processed cycling test data. We have extracted relevant columns and created a pandas DataFrame `df_extracted` for further analysis."
   ]
  },
  {
   "cell_type": "code",
   "execution_count": null,
   "metadata": {},
   "outputs": [],
   "source": [
    "import glob\n",
    "import numpy as np\n",
    "import pandas as pd\n"
   ]
  },
  {
   "cell_type": "code",
   "execution_count": null,
   "metadata": {},
   "outputs": [],
   "source": [
    "from scipy.io import loadmat\n",
    "\n",
    "# Load the .mat file\n",
    "file_path = \"EV_data/W4_C01.mat\"\n",
    "mat_data = loadmat(file_path)\n",
    "\n",
    "# Display the keys in the .mat file to understand its structure\n",
    "print(mat_data.keys())\n"
   ]
  },
  {
   "cell_type": "code",
   "execution_count": null,
   "metadata": {},
   "outputs": [],
   "source": [
    "# Downsample the data by taking every 10th row\n",
    "columns_of_interest = ['I_full_vec_M1_NMC25degC', 'Step_Index_full_vec_M1_NMC25degC', 'V_full_vec_M1_NMC25degC', 'ch_cap_full_vec_M1_NMC25degC', 'dis_cap_full_vec_M1_NMC25degC', 't_full_vec_M1_NMC25degC']\n",
    "\n",
    "# Create a dictionary to hold the data\n",
    "extracted_data = {col: mat_data[col].flatten() for col in columns_of_interest}\n",
    "\n",
    "# Convert the dictionary to a pandas DataFrame\n",
    "df_extracted = pd.DataFrame(extracted_data)\n",
    "\n",
    "# Rename the columns to just have the initial word\n",
    "df_extracted.rename(columns=lambda x: x.split('_')[0], inplace=True)\n",
    "\n",
    "print(df_extracted.head())\n",
    "print(f\"Number of samples: {len(df_extracted)}\")"
   ]
  },
  {
   "cell_type": "code",
   "execution_count": null,
   "metadata": {},
   "outputs": [],
   "source": [
    "# Downsample the data by taking every 10th row\n",
    "df_extracted = df_extracted.iloc[::10, :]\n",
    "\n",
    "print(df_extracted.head())\n",
    "print(f\"Number of samples after downsampling: {len(df_extracted)}\")"
   ]
  },
  {
   "cell_type": "markdown",
   "metadata": {},
   "source": [
    "\"\"\"\n",
    "This DataFrame contains the following columns:\n",
    "\n",
    "- I: Current (A)\n",
    "- Step: Step number at this point\n",
    "- V: Voltage (V)\n",
    "- ch: Charge capacity (Ah) at this point (always positive)\n",
    "- dis: Discharge capacity (Ah) at this point (always positive)\n",
    "- t: Time the data is taken, start of each step = 0 (s)\n",
    "\"\"\""
   ]
  },
  {
   "cell_type": "markdown",
   "metadata": {},
   "source": [
    "\n",
    "### Next Steps: Visualizing Voltage and Current vs Time\n",
    "\n",
    "To gain insights into the battery's behavior during the cycling tests, we will visualize the voltage and current over time. This will help us identify patterns and anomalies in the data.\n",
    "\n",
    "1. **Voltage vs Time**: Plotting the voltage against time will allow us to observe how the voltage changes throughout the cycling process. This can reveal important information about the battery's performance and efficiency.\n",
    "\n",
    "2. **Current vs Time**: Similarly, plotting the current against time will help us understand the charging and discharging cycles of the battery. This can provide insights into the battery's capacity and health.\n",
    "\n",
    "In the next cell, we will use `matplotlib` to create these plots.\n"
   ]
  },
  {
   "cell_type": "code",
   "execution_count": null,
   "metadata": {},
   "outputs": [],
   "source": [
    "import matplotlib.pyplot as plt\n",
    "\n",
    "# Plot Voltage vs Time\n",
    "df_extracted.plot(x='t', y='V', kind='line', title='Voltage vs Time')\n",
    "plt.xlabel('Time (s)')\n",
    "plt.ylabel('Voltage (V)')\n",
    "plt.show()\n",
    "\n",
    "# Plot Current vs Time\n",
    "df_extracted.plot(x='t', y='I', kind='line', title='Current vs Time')\n",
    "plt.xlabel('Time (s)')\n",
    "plt.ylabel('Current (A)')\n",
    "plt.show()"
   ]
  },
  {
   "cell_type": "code",
   "execution_count": null,
   "metadata": {},
   "outputs": [],
   "source": [
    "# Plot Steps vs Time\n",
    "df_extracted.plot(x='t', y='Step', kind='line', title='Steps vs Time')\n",
    "plt.xlabel('Time (s)')\n",
    "plt.ylabel('Step')\n",
    "plt.show()"
   ]
  },
  {
   "cell_type": "markdown",
   "metadata": {},
   "source": [
    "# Next Steps: Separating and Analyzing Each Cycle Independently\n",
    "\n",
    "The next processing step involves separating each cycle from the dataset and studying them independently. This will allow us to perform a detailed analysis of each cycle's characteristics and behavior."
   ]
  },
  {
   "cell_type": "markdown",
   "metadata": {},
   "source": [
    "### Explanation of the Code\n",
    "\n",
    "The code snippet provided performs the following tasks:\n",
    "\n",
    "1. **Create a New Column for Cycle Number:**\n",
    "   - The code creates a new column named `Cycle` in the DataFrame `df_extracted`.\n",
    "   - This column is based on the change in the `Step` column from 14 to 7.\n",
    "   - The expression `df_extracted['Step'].shift(-1) == 7` checks if the next row's `Step` value is 7.\n",
    "   - The expression `df_extracted['Step'] == 14` checks if the current row's `Step` value is 14.\n",
    "   - The logical AND (`&`) of these two conditions identifies the points where the `Step` changes from 14 to 7.\n",
    "   - The `cumsum()` function is then used to create a cumulative sum, effectively assigning a unique cycle number each time the step changes from 14 to 7.\n",
    "\n",
    "2. **Print the First Few Rows of the DataFrame:**\n",
    "   - The `print(df_extracted.head())` statement prints the first five rows of the DataFrame to verify the changes.\n",
    "\n",
    "3. **Plot Cycle vs. Time:**\n",
    "   - The code plots the `Cycle` column against the `t` (time) column.\n",
    "   - The `df_extracted.plot()` function is used to create a line plot with `t` on the x-axis and `Cycle` on the y-axis.\n",
    "   - The plot is titled 'Cycle vs Time'.\n",
    "   - The x-axis is labeled 'Time (s)' and the y-axis is labeled 'Cycle'.\n",
    "   - Finally, `plt.show()` is called to display the plot.\n",
    "\n",
    "This code helps visualize how the cycle number changes over time based on the step transitions in the data."
   ]
  },
  {
   "cell_type": "code",
   "execution_count": null,
   "metadata": {},
   "outputs": [],
   "source": [
    "\n",
    "# Create a new column for the cycle number based on step change from 14 to 7\n",
    "df_extracted['Cycle'] = ((df_extracted['Step'].shift(-1) == 7) & (df_extracted['Step'] == 14)).cumsum()\n",
    "\n",
    "print(df_extracted.head())\n",
    "\n",
    "\n",
    "# Plot Cycle vs Time\n",
    "df_extracted.plot(x='t', y='Cycle', kind='line', title='Cycle vs Time')\n",
    "plt.xlabel('Time (s)')\n",
    "plt.ylabel('Cycle')\n",
    "plt.show()\n"
   ]
  },
  {
   "cell_type": "code",
   "execution_count": null,
   "metadata": {},
   "outputs": [],
   "source": [
    "import plotly.graph_objects as go\n",
    "\n",
    "# Create a figure\n",
    "fig = go.Figure()\n",
    "\n",
    "# Add traces for each cycle\n",
    "for cycle in df_extracted['Cycle'].unique():\n",
    "    cycle_data = df_extracted[df_extracted['Cycle'] == cycle]\n",
    "    fig.add_trace(go.Scatter(x=cycle_data['t'], y=cycle_data['V'], mode='lines', name=f'Cycle {cycle}', visible=False))\n",
    "\n",
    "# Make the first cycle visible\n",
    "fig.data[0].visible = True\n",
    "\n",
    "# Create and add slider\n",
    "steps = []\n",
    "for i, cycle in enumerate(df_extracted['Cycle'].unique()):\n",
    "    step = dict(\n",
    "        method='update',\n",
    "        args=[{'visible': [j == i for j in range(len(df_extracted['Cycle'].unique()))]},\n",
    "              {'title': f'Voltage vs Time for Cycle {cycle}'}],\n",
    "        label=str(cycle)\n",
    "    )\n",
    "    steps.append(step)\n",
    "\n",
    "sliders = [dict(\n",
    "    active=0,\n",
    "    currentvalue={\"prefix\": \"Cycle: \"},\n",
    "    pad={\"t\": 50},\n",
    "    steps=steps\n",
    ")]\n",
    "\n",
    "fig.update_layout(\n",
    "    sliders=sliders,\n",
    "    title='Voltage vs Time with Cycle Slider',\n",
    "    xaxis_title='Time (s)',\n",
    "    yaxis_title='Voltage (V)'\n",
    ")\n",
    "\n",
    "fig.show()"
   ]
  },
  {
   "cell_type": "code",
   "execution_count": null,
   "metadata": {},
   "outputs": [],
   "source": []
  }
 ],
 "metadata": {
  "kernelspec": {
   "display_name": "base",
   "language": "python",
   "name": "python3"
  },
  "language_info": {
   "codemirror_mode": {
    "name": "ipython",
    "version": 3
   },
   "file_extension": ".py",
   "mimetype": "text/x-python",
   "name": "python",
   "nbconvert_exporter": "python",
   "pygments_lexer": "ipython3",
   "version": "3.11.5"
  }
 },
 "nbformat": 4,
 "nbformat_minor": 2
}
